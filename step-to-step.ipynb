{
 "cells": [
  {
   "cell_type": "code",
   "execution_count": null,
   "metadata": {
    "ExecuteTime": {
     "end_time": "2025-05-23T15:17:13.910954Z",
     "start_time": "2025-05-23T15:17:11.885312Z"
    },
    "id": "qMGT5b9OI0AS"
   },
   "outputs": [
    {
     "data": {
      "text/html": [
       "<div>\n",
       "<style scoped>\n",
       "    .dataframe tbody tr th:only-of-type {\n",
       "        vertical-align: middle;\n",
       "    }\n",
       "\n",
       "    .dataframe tbody tr th {\n",
       "        vertical-align: top;\n",
       "    }\n",
       "\n",
       "    .dataframe thead th {\n",
       "        text-align: right;\n",
       "    }\n",
       "</style>\n",
       "<table border=\"1\" class=\"dataframe\">\n",
       "  <thead>\n",
       "    <tr style=\"text-align: right;\">\n",
       "      <th></th>\n",
       "      <th>item_id</th>\n",
       "      <th>waist</th>\n",
       "      <th>size</th>\n",
       "      <th>quality</th>\n",
       "      <th>cup size</th>\n",
       "      <th>hips</th>\n",
       "      <th>bra size</th>\n",
       "      <th>category</th>\n",
       "      <th>bust</th>\n",
       "      <th>height</th>\n",
       "      <th>user_name</th>\n",
       "      <th>length</th>\n",
       "      <th>fit</th>\n",
       "      <th>user_id</th>\n",
       "      <th>shoe size</th>\n",
       "      <th>shoe width</th>\n",
       "      <th>review_summary</th>\n",
       "      <th>review_text</th>\n",
       "    </tr>\n",
       "  </thead>\n",
       "  <tbody>\n",
       "    <tr>\n",
       "      <th>0</th>\n",
       "      <td>123373</td>\n",
       "      <td>29.0</td>\n",
       "      <td>7</td>\n",
       "      <td>5.0</td>\n",
       "      <td>d</td>\n",
       "      <td>38.0</td>\n",
       "      <td>34.0</td>\n",
       "      <td>new</td>\n",
       "      <td>36</td>\n",
       "      <td>5ft 6in</td>\n",
       "      <td>Emily</td>\n",
       "      <td>just right</td>\n",
       "      <td>small</td>\n",
       "      <td>991571</td>\n",
       "      <td>NaN</td>\n",
       "      <td>NaN</td>\n",
       "      <td>NaN</td>\n",
       "      <td>NaN</td>\n",
       "    </tr>\n",
       "    <tr>\n",
       "      <th>1</th>\n",
       "      <td>123373</td>\n",
       "      <td>31.0</td>\n",
       "      <td>13</td>\n",
       "      <td>3.0</td>\n",
       "      <td>b</td>\n",
       "      <td>30.0</td>\n",
       "      <td>36.0</td>\n",
       "      <td>new</td>\n",
       "      <td>NaN</td>\n",
       "      <td>5ft 2in</td>\n",
       "      <td>sydneybraden2001</td>\n",
       "      <td>just right</td>\n",
       "      <td>small</td>\n",
       "      <td>587883</td>\n",
       "      <td>NaN</td>\n",
       "      <td>NaN</td>\n",
       "      <td>NaN</td>\n",
       "      <td>NaN</td>\n",
       "    </tr>\n",
       "    <tr>\n",
       "      <th>2</th>\n",
       "      <td>123373</td>\n",
       "      <td>30.0</td>\n",
       "      <td>7</td>\n",
       "      <td>2.0</td>\n",
       "      <td>b</td>\n",
       "      <td>NaN</td>\n",
       "      <td>32.0</td>\n",
       "      <td>new</td>\n",
       "      <td>NaN</td>\n",
       "      <td>5ft 7in</td>\n",
       "      <td>Ugggh</td>\n",
       "      <td>slightly long</td>\n",
       "      <td>small</td>\n",
       "      <td>395665</td>\n",
       "      <td>9.0</td>\n",
       "      <td>NaN</td>\n",
       "      <td>NaN</td>\n",
       "      <td>NaN</td>\n",
       "    </tr>\n",
       "    <tr>\n",
       "      <th>3</th>\n",
       "      <td>123373</td>\n",
       "      <td>NaN</td>\n",
       "      <td>21</td>\n",
       "      <td>5.0</td>\n",
       "      <td>dd/e</td>\n",
       "      <td>NaN</td>\n",
       "      <td>NaN</td>\n",
       "      <td>new</td>\n",
       "      <td>NaN</td>\n",
       "      <td>NaN</td>\n",
       "      <td>alexmeyer626</td>\n",
       "      <td>just right</td>\n",
       "      <td>fit</td>\n",
       "      <td>875643</td>\n",
       "      <td>NaN</td>\n",
       "      <td>NaN</td>\n",
       "      <td>NaN</td>\n",
       "      <td>NaN</td>\n",
       "    </tr>\n",
       "    <tr>\n",
       "      <th>4</th>\n",
       "      <td>123373</td>\n",
       "      <td>NaN</td>\n",
       "      <td>18</td>\n",
       "      <td>5.0</td>\n",
       "      <td>b</td>\n",
       "      <td>NaN</td>\n",
       "      <td>36.0</td>\n",
       "      <td>new</td>\n",
       "      <td>NaN</td>\n",
       "      <td>5ft 2in</td>\n",
       "      <td>dberrones1</td>\n",
       "      <td>slightly long</td>\n",
       "      <td>small</td>\n",
       "      <td>944840</td>\n",
       "      <td>NaN</td>\n",
       "      <td>NaN</td>\n",
       "      <td>NaN</td>\n",
       "      <td>NaN</td>\n",
       "    </tr>\n",
       "  </tbody>\n",
       "</table>\n",
       "</div>"
      ],
      "text/plain": [
       "   item_id  waist  size  quality cup size  hips  bra size category bust  \\\n",
       "0   123373   29.0     7      5.0        d  38.0      34.0      new   36   \n",
       "1   123373   31.0    13      3.0        b  30.0      36.0      new  NaN   \n",
       "2   123373   30.0     7      2.0        b   NaN      32.0      new  NaN   \n",
       "3   123373    NaN    21      5.0     dd/e   NaN       NaN      new  NaN   \n",
       "4   123373    NaN    18      5.0        b   NaN      36.0      new  NaN   \n",
       "\n",
       "    height         user_name         length    fit  user_id  shoe size  \\\n",
       "0  5ft 6in             Emily     just right  small   991571        NaN   \n",
       "1  5ft 2in  sydneybraden2001     just right  small   587883        NaN   \n",
       "2  5ft 7in             Ugggh  slightly long  small   395665        9.0   \n",
       "3      NaN      alexmeyer626     just right    fit   875643        NaN   \n",
       "4  5ft 2in        dberrones1  slightly long  small   944840        NaN   \n",
       "\n",
       "  shoe width review_summary review_text  \n",
       "0        NaN            NaN         NaN  \n",
       "1        NaN            NaN         NaN  \n",
       "2        NaN            NaN         NaN  \n",
       "3        NaN            NaN         NaN  \n",
       "4        NaN            NaN         NaN  "
      ]
     },
     "execution_count": 15,
     "metadata": {},
     "output_type": "execute_result"
    }
   ],
   "source": [
    "import pandas as pd\n",
    "\n",
    "mc_df = pd.read_json(r'modcloth_final_data.json\\modcloth_final_data.json', lines=True)\n",
    "(mc_df.head())"
   ]
  },
  {
   "cell_type": "markdown",
   "metadata": {
    "_uuid": "8c6a654a70b19670e20a5bd633d1ecfa0962798c",
    "id": "vFuhH4o9I0AU"
   },
   "source": [
    "*Sonnv*\n",
    "\n",
    "Tôi dự định thực hiện bài này như một nhiệm vụ Phân tích Dữ liệu Khám phá (Exploratory Data Analysis - EDA) đơn giản nhưng kỹ lưỡng bằng Python, seaborn và matplotlib.\n",
    "\n",
    "### Mục lục:\n",
    "\n",
    "1. [Về bộ dữ liệu](#1)\n",
    "2. [Nhập dữ liệu - Modcloth](#3)\n",
    "3. [EDA & Tiền xử lý](#4)\n",
    "   1. [Biểu đồ hộp (Boxplot) của các biến số](#5)\n",
    "   2. [Xử lý các giá trị ngoại lai (Outliers)](#6)\n",
    "   3. [Phân phối kết hợp của bra_size và size](#7)\n",
    "4. [Làm sạch & Tiền xử lý dữ liệu](#8)\n",
    "   1. [Phân phối ban đầu của các đặc trưng](#9)\n",
    "   2. [Xử lý đặc trưng từng bước](#10)\n",
    "      1. [Kỹ thuật đặc trưng (Feature Engineering) - thêm đặc trưng mới](#11)\n",
    "5. [EDA thông qua Trực quan hóa](#12)\n",
    "   1. [Phân phối của các đặc trưng](#13)\n",
    "   2. [Các danh mục (Categories) so với Độ vừa vặn/Chiều dài/Chất lượng (Fit/Length/Quality)](#14)\n",
    "   3. [Người dùng (Users) so với Số lượng mặt hàng đã mua (Items bought)](#15)\n",
    "   4. [Chiều cao (Height) so với Cỡ giày (Shoe-size)](#16)\n",
    "6. [Tài liệu tham khảo](#references)\n",
    "7. [Các giả định](#assumptions)\n",
    "\n",
    "\n",
    "<a id=\"1\"></a>\n",
    "### Về bộ dữ liệu\n",
    "\n",
    "> Bộ dữ liệu này chứa phản hồi về độ vừa vặn của quần áo do khách hàng tự báo cáo cũng như các thông tin phụ khác như đánh giá, xếp hạng, danh mục sản phẩm, kích cỡ theo danh mục, số đo của khách hàng (v.v.) từ 2 trang web:\n",
    ">\n",
    "> 1. [Modcloth](http://modcloth.com)\n",
    "> 2. [Renttherunway](http://renttherunway.com)\n",
    ">\n",
    "> [[1]](#references) ModCloth bán quần áo và phụ kiện cổ điển dành cho phụ nữ, từ đó người quản lý bộ dữ liệu đã thu thập dữ liệu từ ba danh mục: váy, áo và quần. RentTheRunWay là một nền tảng độc đáo cho phép phụ nữ thuê quần áo cho các dịp khác nhau; họ đã thu thập dữ liệu từ một số danh mục.\n",
    ">\n",
    "> **Lưu ý:** Trong cả hai bộ dữ liệu, phản hồi về độ vừa vặn thuộc một trong ba loại: ‘Nhỏ’ (Small), ‘Vừa’ (Fit) và ‘Lớn’ (Large). Và cũng có một số [giả định](#assumptions) đã được đưa ra về các đặc trưng trong bộ dữ liệu."
   ]
  },
  {
   "cell_type": "code",
   "execution_count": 16,
   "metadata": {
    "ExecuteTime": {
     "end_time": "2025-05-23T15:17:49.104532Z",
     "start_time": "2025-05-23T15:17:49.061843Z"
    },
    "_cell_guid": "b1076dfc-b9ad-4769-8c92-a6c4dae69d19",
    "_kg_hide-input": true,
    "_kg_hide-output": true,
    "_uuid": "8f2839f25d086af736a60e9eeb907d3b93b6e0e5",
    "id": "lbW2-UkJI0AV",
    "trusted": true
   },
   "outputs": [
    {
     "ename": "FileNotFoundError",
     "evalue": "[WinError 3] The system cannot find the path specified: '../input'",
     "output_type": "error",
     "traceback": [
      "\u001b[31m---------------------------------------------------------------------------\u001b[39m",
      "\u001b[31mFileNotFoundError\u001b[39m                         Traceback (most recent call last)",
      "\u001b[36mCell\u001b[39m\u001b[36m \u001b[39m\u001b[32mIn[16]\u001b[39m\u001b[32m, line 6\u001b[39m\n\u001b[32m      4\u001b[39m \u001b[38;5;28;01mimport\u001b[39;00m\u001b[38;5;250m \u001b[39m\u001b[34;01mseaborn\u001b[39;00m\u001b[38;5;250m \u001b[39m\u001b[38;5;28;01mas\u001b[39;00m\u001b[38;5;250m \u001b[39m\u001b[34;01msns\u001b[39;00m\n\u001b[32m      5\u001b[39m \u001b[38;5;28;01mimport\u001b[39;00m\u001b[38;5;250m \u001b[39m\u001b[34;01mos\u001b[39;00m\n\u001b[32m----> \u001b[39m\u001b[32m6\u001b[39m \u001b[38;5;28mprint\u001b[39m(\u001b[43mos\u001b[49m\u001b[43m.\u001b[49m\u001b[43mlistdir\u001b[49m\u001b[43m(\u001b[49m\u001b[33;43m\"\u001b[39;49m\u001b[33;43m../input\u001b[39;49m\u001b[33;43m\"\u001b[39;49m\u001b[43m)\u001b[49m)\n\u001b[32m      8\u001b[39m \u001b[38;5;66;03m# Suppressing all warnings\u001b[39;00m\n\u001b[32m      9\u001b[39m \u001b[38;5;28;01mimport\u001b[39;00m\u001b[38;5;250m \u001b[39m\u001b[34;01mwarnings\u001b[39;00m\n",
      "\u001b[31mFileNotFoundError\u001b[39m: [WinError 3] The system cannot find the path specified: '../input'"
     ]
    }
   ],
   "source": [
    "import numpy as np # linear algebra\n",
    "import pandas as pd # data processing, CSV file I/O (e.g. pd.read_csv)\n",
    "import matplotlib.pyplot as plt\n",
    "import seaborn as sns\n",
    "import os\n",
    "print(os.listdir(\"../input\"))\n",
    "\n",
    "# Suppressing all warnings\n",
    "import warnings\n",
    "warnings.filterwarnings(\"ignore\")\n",
    "\n",
    "import matplotlib\n",
    "matplotlib.rc('figure', figsize = (20, 8))\n",
    "matplotlib.rc('font', size = 14)\n",
    "matplotlib.rc('axes.spines', top = False, right = False)\n",
    "matplotlib.rc('axes', grid = False)\n",
    "matplotlib.rc('axes', facecolor = 'white')"
   ]
  },
  {
   "cell_type": "markdown",
   "metadata": {
    "_uuid": "0afe5de71cb8f3be40b3ed12413d7f9cea6f7cf3",
    "id": "SyHPjdykI0AW"
   },
   "source": [
    "<a id=\"2\"></a>\n",
    "# Bộ dữ liệu [Modcloth](http://modcloth.com)\n",
    "<a id=\"3\"></a>\n",
    "## Nhập dữ liệu bằng Pandas\n",
    "\n",
    "Xem qua một vài dòng đầu tiên của tệp json dữ liệu modcloth bằng lệnh bash tích hợp `head` của hệ điều hành."
   ]
  },
  {
   "cell_type": "code",
   "execution_count": 18,
   "metadata": {
    "ExecuteTime": {
     "end_time": "2025-05-23T15:22:46.308090Z",
     "start_time": "2025-05-23T15:22:46.254619Z"
    },
    "_kg_hide-output": true,
    "_uuid": "e562b7dc4a103ff114b6139483e869159f67fc22",
    "id": "HWCVReqpI0AX",
    "trusted": true
   },
   "outputs": [
    {
     "name": "stderr",
     "output_type": "stream",
     "text": [
      "'head' is not recognized as an internal or external command,\n",
      "operable program or batch file.\n"
     ]
    }
   ],
   "source": [
    "# Execute this in your kernel to view the first n (here-4) lines of the json file.\n",
    "! head -n 4 ../input/modcloth_final_data.json"
   ]
  },
  {
   "cell_type": "markdown",
   "metadata": {
    "_uuid": "087af58a4c546acd6c52d9ec5b0dbf3f95cb0f23",
    "id": "or1TB3Q3I0AX"
   },
   "source": [
    "Sử dụng hàm `pd.read_json()`, tệp json được đưa vào một DataFrame của pandas, với tham số `lines` là `True` - bởi vì mỗi đối tượng mới được phân tách bằng một dòng mới."
   ]
  },
  {
   "cell_type": "code",
   "execution_count": null,
   "metadata": {
    "ExecuteTime": {
     "end_time": "2025-05-23T15:22:51.959514Z",
     "start_time": "2025-05-23T15:22:50.486096Z"
    },
    "_kg_hide-input": true,
    "_uuid": "2178520ea77364cb4faedefca9acba4ee659cc1a",
    "id": "FhfLlP0bI0AX",
    "trusted": true
   },
   "outputs": [
    {
     "data": {
      "text/html": [
       "<div>\n",
       "<style scoped>\n",
       "    .dataframe tbody tr th:only-of-type {\n",
       "        vertical-align: middle;\n",
       "    }\n",
       "\n",
       "    .dataframe tbody tr th {\n",
       "        vertical-align: top;\n",
       "    }\n",
       "\n",
       "    .dataframe thead th {\n",
       "        text-align: right;\n",
       "    }\n",
       "</style>\n",
       "<table border=\"1\" class=\"dataframe\">\n",
       "  <thead>\n",
       "    <tr style=\"text-align: right;\">\n",
       "      <th></th>\n",
       "      <th>item_id</th>\n",
       "      <th>waist</th>\n",
       "      <th>size</th>\n",
       "      <th>quality</th>\n",
       "      <th>cup size</th>\n",
       "      <th>hips</th>\n",
       "      <th>bra size</th>\n",
       "      <th>category</th>\n",
       "      <th>bust</th>\n",
       "      <th>height</th>\n",
       "      <th>user_name</th>\n",
       "      <th>length</th>\n",
       "      <th>fit</th>\n",
       "      <th>user_id</th>\n",
       "      <th>shoe size</th>\n",
       "      <th>shoe width</th>\n",
       "      <th>review_summary</th>\n",
       "      <th>review_text</th>\n",
       "    </tr>\n",
       "  </thead>\n",
       "  <tbody>\n",
       "    <tr>\n",
       "      <th>0</th>\n",
       "      <td>123373</td>\n",
       "      <td>29.0</td>\n",
       "      <td>7</td>\n",
       "      <td>5.0</td>\n",
       "      <td>d</td>\n",
       "      <td>38.0</td>\n",
       "      <td>34.0</td>\n",
       "      <td>new</td>\n",
       "      <td>36</td>\n",
       "      <td>5ft 6in</td>\n",
       "      <td>Emily</td>\n",
       "      <td>just right</td>\n",
       "      <td>small</td>\n",
       "      <td>991571</td>\n",
       "      <td>NaN</td>\n",
       "      <td>NaN</td>\n",
       "      <td>NaN</td>\n",
       "      <td>NaN</td>\n",
       "    </tr>\n",
       "    <tr>\n",
       "      <th>1</th>\n",
       "      <td>123373</td>\n",
       "      <td>31.0</td>\n",
       "      <td>13</td>\n",
       "      <td>3.0</td>\n",
       "      <td>b</td>\n",
       "      <td>30.0</td>\n",
       "      <td>36.0</td>\n",
       "      <td>new</td>\n",
       "      <td>NaN</td>\n",
       "      <td>5ft 2in</td>\n",
       "      <td>sydneybraden2001</td>\n",
       "      <td>just right</td>\n",
       "      <td>small</td>\n",
       "      <td>587883</td>\n",
       "      <td>NaN</td>\n",
       "      <td>NaN</td>\n",
       "      <td>NaN</td>\n",
       "      <td>NaN</td>\n",
       "    </tr>\n",
       "    <tr>\n",
       "      <th>2</th>\n",
       "      <td>123373</td>\n",
       "      <td>30.0</td>\n",
       "      <td>7</td>\n",
       "      <td>2.0</td>\n",
       "      <td>b</td>\n",
       "      <td>NaN</td>\n",
       "      <td>32.0</td>\n",
       "      <td>new</td>\n",
       "      <td>NaN</td>\n",
       "      <td>5ft 7in</td>\n",
       "      <td>Ugggh</td>\n",
       "      <td>slightly long</td>\n",
       "      <td>small</td>\n",
       "      <td>395665</td>\n",
       "      <td>9.0</td>\n",
       "      <td>NaN</td>\n",
       "      <td>NaN</td>\n",
       "      <td>NaN</td>\n",
       "    </tr>\n",
       "    <tr>\n",
       "      <th>3</th>\n",
       "      <td>123373</td>\n",
       "      <td>NaN</td>\n",
       "      <td>21</td>\n",
       "      <td>5.0</td>\n",
       "      <td>dd/e</td>\n",
       "      <td>NaN</td>\n",
       "      <td>NaN</td>\n",
       "      <td>new</td>\n",
       "      <td>NaN</td>\n",
       "      <td>NaN</td>\n",
       "      <td>alexmeyer626</td>\n",
       "      <td>just right</td>\n",
       "      <td>fit</td>\n",
       "      <td>875643</td>\n",
       "      <td>NaN</td>\n",
       "      <td>NaN</td>\n",
       "      <td>NaN</td>\n",
       "      <td>NaN</td>\n",
       "    </tr>\n",
       "    <tr>\n",
       "      <th>4</th>\n",
       "      <td>123373</td>\n",
       "      <td>NaN</td>\n",
       "      <td>18</td>\n",
       "      <td>5.0</td>\n",
       "      <td>b</td>\n",
       "      <td>NaN</td>\n",
       "      <td>36.0</td>\n",
       "      <td>new</td>\n",
       "      <td>NaN</td>\n",
       "      <td>5ft 2in</td>\n",
       "      <td>dberrones1</td>\n",
       "      <td>slightly long</td>\n",
       "      <td>small</td>\n",
       "      <td>944840</td>\n",
       "      <td>NaN</td>\n",
       "      <td>NaN</td>\n",
       "      <td>NaN</td>\n",
       "      <td>NaN</td>\n",
       "    </tr>\n",
       "  </tbody>\n",
       "</table>\n",
       "</div>"
      ],
      "text/plain": [
       "   item_id  waist  size  quality cup size  hips  bra size category bust  \\\n",
       "0   123373   29.0     7      5.0        d  38.0      34.0      new   36   \n",
       "1   123373   31.0    13      3.0        b  30.0      36.0      new  NaN   \n",
       "2   123373   30.0     7      2.0        b   NaN      32.0      new  NaN   \n",
       "3   123373    NaN    21      5.0     dd/e   NaN       NaN      new  NaN   \n",
       "4   123373    NaN    18      5.0        b   NaN      36.0      new  NaN   \n",
       "\n",
       "    height         user_name         length    fit  user_id  shoe size  \\\n",
       "0  5ft 6in             Emily     just right  small   991571        NaN   \n",
       "1  5ft 2in  sydneybraden2001     just right  small   587883        NaN   \n",
       "2  5ft 7in             Ugggh  slightly long  small   395665        9.0   \n",
       "3      NaN      alexmeyer626     just right    fit   875643        NaN   \n",
       "4  5ft 2in        dberrones1  slightly long  small   944840        NaN   \n",
       "\n",
       "  shoe width review_summary review_text  \n",
       "0        NaN            NaN         NaN  \n",
       "1        NaN            NaN         NaN  \n",
       "2        NaN            NaN         NaN  \n",
       "3        NaN            NaN         NaN  \n",
       "4        NaN            NaN         NaN  "
      ]
     },
     "execution_count": 19,
     "metadata": {},
     "output_type": "execute_result"
    }
   ],
   "source": [
    "# Code Here\n",
    "import pandas as pd\n",
    "mc_df = pd.read_json('modcloth_final_data.json/modcloth_final_data.json', lines = 'True')\n",
    "mc_df.head()"
   ]
  },
  {
   "cell_type": "markdown",
   "metadata": {
    "_uuid": "8c2f1fbfc72d21e57693d431a0b91f277d4f9e46",
    "id": "nIAbobooI0AY"
   },
   "source": [
    "<a id=\"4\"></a>\n",
    "# EDA - Phân tích Dữ liệu Khám phá\n",
    "\n",
    "Chúng ta đã có thể đưa ra một vài quan sát ở đây, bằng cách nhìn vào phần đầu của dữ liệu:\n",
    "\n",
    "1. Có các giá trị bị thiếu (missing values) trong DataFrame, cần phải được xử lý.\n",
    "2. Cột `cup_size` chứa nhiều sở thích khác nhau - sẽ cần xử lý nếu chúng ta muốn định nghĩa `cup_size` là kiểu dữ liệu 'category'.\n",
    "3. Cột `height` cần được phân tích cú pháp để trích xuất chiều cao dưới dạng một đại lượng số, hiện tại nó trông giống như một chuỗi (object).\n",
    "4. Không quá quan trọng, nhưng một số cột có thể cần đổi tên - để loại bỏ khoảng trắng.\n",
    "\n",
    "Đầu tiên, chúng ta xử lý việc đặt tên các cột để dễ dàng truy cập trong pandas.\n",
    "Tên sau khi đổi tên:\n",
    "\n",
    "['bra_size', 'bust', 'category', 'cup_size', 'fit', 'height', 'hips',\n",
    "'item_id', 'length', 'quality', 'review_summary', 'review_text',\n",
    "'shoe_size', 'shoe_width', 'size', 'user_id', 'user_name', 'waist']"
   ]
  },
  {
   "cell_type": "code",
   "execution_count": 21,
   "metadata": {
    "ExecuteTime": {
     "end_time": "2025-05-23T15:23:26.160135Z",
     "start_time": "2025-05-23T15:23:26.152136Z"
    },
    "_kg_hide-input": true,
    "_kg_hide-output": true,
    "_uuid": "24b27107a376a90044818b4cfb55e20b45b08b34",
    "id": "YMvRUeO2I0AY",
    "trusted": true
   },
   "outputs": [
    {
     "data": {
      "text/plain": [
       "Index(['item_id', 'waist', 'size', 'quality', 'cup size', 'hips', 'bra size',\n",
       "       'category', 'bust', 'height', 'user_name', 'length', 'fit', 'user_id',\n",
       "       'shoe size', 'shoe width', 'review_summary', 'review_text'],\n",
       "      dtype='object')"
      ]
     },
     "execution_count": 21,
     "metadata": {},
     "output_type": "execute_result"
    }
   ],
   "source": [
    "mc_df.columns"
   ]
  },
  {
   "cell_type": "code",
   "execution_count": null,
   "metadata": {
    "ExecuteTime": {
     "end_time": "2025-05-23T15:23:30.720239Z",
     "start_time": "2025-05-23T15:23:30.712240Z"
    },
    "_kg_hide-input": true,
    "_uuid": "2eb7d925650a29cfd0541a5c2038163d4cda4bf9",
    "id": "LNLAC9SyI0AY",
    "trusted": true
   },
   "outputs": [
    {
     "name": "stdout",
     "output_type": "stream",
     "text": [
      "Tên cột ban đầu:\n",
      "['item_id', 'waist', 'size', 'quality', 'cup_size', 'hips', 'bra_size', 'category', 'bust', 'height', 'user_name', 'length', 'fit', 'user_id', 'shoe_size', 'shoe_width', 'review_summary', 'review_text']\n",
      "\n",
      "Tên cột sau khi đổi tên:\n",
      "['item_id', 'waist', 'size', 'quality', 'cup_size', 'hips', 'bra_size', 'category', 'bust', 'height', 'user_name', 'length', 'fit', 'user_id', 'shoe_size', 'shoe_width', 'review_summary', 'review_text']\n"
     ]
    }
   ],
   "source": [
    "## Rename the columns\n",
    "# Bài tập 4: Kiểm tra và đổi tên cột\n",
    "if 'mc_df' in locals():\n",
    "    print(\"Tên cột ban đầu:\")\n",
    "    print(mc_df.columns.tolist())\n",
    "    ...\n",
    "else:\n",
    "    print(\"DataFrame 'mc_df' chưa được tải. Vui lòng chạy lại ô nhập dữ liệu.\")\n",
    "\n",
    "if 'mc_df' in locals():\n",
    "    mc_df.columns = mc_df.columns.str.replace(' ', '_')\n",
    "\n",
    "    print(\"\\nTên cột sau khi đổi tên:\")\n",
    "    print(mc_df.columns.tolist())\n",
    "    ...\n",
    "else:\n",
    "    print(\"DataFrame 'mc_df' chưa được tải.\")"
   ]
  },
  {
   "cell_type": "code",
   "execution_count": null,
   "metadata": {
    "ExecuteTime": {
     "end_time": "2025-05-23T15:23:52.421129Z",
     "start_time": "2025-05-23T15:23:52.311880Z"
    },
    "_kg_hide-output": true,
    "_uuid": "d7ddb93e533e9dc8b72935be347fef34a443edbd",
    "id": "x7u08sRYI0AZ",
    "trusted": true
   },
   "outputs": [
    {
     "name": "stdout",
     "output_type": "stream",
     "text": [
      "Thông tin DataFrame:\n",
      "<class 'pandas.core.frame.DataFrame'>\n",
      "RangeIndex: 82790 entries, 0 to 82789\n",
      "Data columns (total 18 columns):\n",
      " #   Column          Non-Null Count  Dtype  \n",
      "---  ------          --------------  -----  \n",
      " 0   item_id         82790 non-null  int64  \n",
      " 1   waist           2882 non-null   float64\n",
      " 2   size            82790 non-null  int64  \n",
      " 3   quality         82722 non-null  float64\n",
      " 4   cup_size        76535 non-null  object \n",
      " 5   hips            56064 non-null  float64\n",
      " 6   bra_size        76772 non-null  float64\n",
      " 7   category        82790 non-null  object \n",
      " 8   bust            11854 non-null  object \n",
      " 9   height          81683 non-null  object \n",
      " 10  user_name       82790 non-null  object \n",
      " 11  length          82755 non-null  object \n",
      " 12  fit             82790 non-null  object \n",
      " 13  user_id         82790 non-null  int64  \n",
      " 14  shoe_size       27915 non-null  float64\n",
      " 15  shoe_width      18607 non-null  object \n",
      " 16  review_summary  76065 non-null  object \n",
      " 17  review_text     76065 non-null  object \n",
      "dtypes: float64(5), int64(3), object(10)\n",
      "memory usage: 11.4+ MB\n"
     ]
    }
   ],
   "source": [
    "## Shown info of dataa\n",
    "if 'mc_df' in locals():\n",
    "    print(\"Thông tin DataFrame:\")\n",
    "    mc_df.info()\n",
    "else:\n",
    "    print(\"DataFrame 'mc_df' chưa được tải.\")"
   ]
  },
  {
   "cell_type": "markdown",
   "metadata": {
    "_uuid": "72958fa8d1073677cab16e0c0ff4dd5c73408269",
    "id": "a3v6yhKfI0AZ"
   },
   "source": [
    "Chúng ta có thể mở rộng các quan sát của mình về dữ liệu bị thiếu và các kiểu dữ liệu ở đây:\n",
    "\n",
    "* Trong số 18 cột, chỉ có 6 cột có dữ liệu đầy đủ.\n",
    "* Khá nhiều dữ liệu dường như bị thiếu trong các cột `bust`, `shoe width`, `shoe size` và `waist`.\n",
    "* Chúng ta có thể muốn đặc biệt xem xét các mặt hàng **có** `shoe size` và `shoe width` - đây có thể là giày!\n",
    "* Rất nhiều cột có kiểu dữ liệu chuỗi (object), cần được phân tích cú pháp thành kiểu dữ liệu category (cũng hỗ trợ tiêu thụ bộ nhớ hiệu quả).\n",
    "* Cột `waist` đáng ngạc nhiên lại có rất nhiều giá trị NULL - xét rằng hầu hết dữ liệu từ Modcloth đến từ 3 danh mục 'váy, áo và quần'.\n",
    "\n",
    "### Xem xét tỷ lệ phần trăm giá trị bị thiếu trên mỗi cột"
   ]
  },
  {
   "cell_type": "code",
   "execution_count": 26,
   "metadata": {
    "ExecuteTime": {
     "end_time": "2025-05-23T15:23:54.866841Z",
     "start_time": "2025-05-23T15:23:54.760314Z"
    },
    "_kg_hide-input": true,
    "_uuid": "2f8943057ad36703c03578d3230032e9126166af",
    "id": "PWAD4GEaI0AZ",
    "trusted": true
   },
   "outputs": [
    {
     "name": "stdout",
     "output_type": "stream",
     "text": [
      "Dữ liệu bị thiếu theo cột:\n",
      "                Tổng số thiếu  Tỷ lệ % thiếu\n",
      "waist                   79908      96.518903\n",
      "bust                    70936      85.681846\n",
      "shoe_width              64183      77.525063\n",
      "shoe_size               54875      66.282160\n",
      "hips                    26726      32.281677\n",
      "review_summary           6725       8.122962\n",
      "review_text              6725       8.122962\n",
      "cup_size                 6255       7.555260\n",
      "bra_size                 6018       7.268994\n",
      "height                   1107       1.337118\n",
      "quality                    68       0.082136\n",
      "length                     35       0.042276\n",
      "item_id                     0       0.000000\n",
      "size                        0       0.000000\n",
      "category                    0       0.000000\n",
      "user_id                     0       0.000000\n",
      "user_name                   0       0.000000\n",
      "fit                         0       0.000000\n"
     ]
    }
   ],
   "source": [
    "### Calculate total missing data and perc miss\n",
    "\n",
    "# Bài tập 6: Tính toán và hiển thị dữ liệu bị thiếu\n",
    "if 'mc_df' in locals():\n",
    "    # Tính tổng số giá trị bị thiếu cho mỗi cột, sắp xếp giảm dần\n",
    "    total_missing = mc_df.isnull().sum().sort_values(ascending=False)\n",
    "\n",
    "    # Tính tỷ lệ phần trăm giá trị bị thiếu cho mỗi cột, sắp xếp theo total_missing\n",
    "    percent_missing = (total_missing / len(mc_df) * 100).sort_values(ascending=False)\n",
    "\n",
    "    # Ghép hai kết quả trên thành một DataFrame mới\n",
    "    missing_data = pd.DataFrame({\n",
    "        'Tổng số thiếu': total_missing,\n",
    "        'Tỷ lệ % thiếu': percent_missing\n",
    "    })\n",
    "\n",
    "    print(\"Dữ liệu bị thiếu theo cột:\")\n",
    "    print(missing_data)\n",
    "else:\n",
    "    print(\"DataFrame 'mc_df' chưa được tải.\")\n"
   ]
  },
  {
   "cell_type": "markdown",
   "metadata": {
    "_uuid": "6007512cb980547f2930af9093e6d570fede7841",
    "id": "daFTgGUgI0AZ"
   },
   "source": [
    "### Statistical description of numerical variables"
   ]
  },
  {
   "cell_type": "code",
   "execution_count": null,
   "metadata": {
    "ExecuteTime": {
     "end_time": "2025-05-23T15:23:57.468333Z",
     "start_time": "2025-05-23T15:23:57.403329Z"
    },
    "_kg_hide-input": true,
    "_uuid": "508e99930c3b1ecb429e8501e514a346e65d84ff",
    "id": "Uap1dT5UI0AZ",
    "trusted": true
   },
   "outputs": [
    {
     "name": "stdout",
     "output_type": "stream",
     "text": [
      "Mô tả thống kê các biến số:\n",
      "             item_id        waist          size       quality          hips  \\\n",
      "count   82790.000000  2882.000000  82790.000000  82722.000000  56064.000000   \n",
      "mean   469325.229170    31.319223     12.661602      3.949058     40.358501   \n",
      "std    213999.803314     5.302849      8.271952      0.992783      5.827166   \n",
      "min    123373.000000    20.000000      0.000000      1.000000     30.000000   \n",
      "25%    314980.000000    28.000000      8.000000      3.000000     36.000000   \n",
      "50%    454030.000000    30.000000     12.000000      4.000000     39.000000   \n",
      "75%    658440.000000    34.000000     15.000000      5.000000     43.000000   \n",
      "max    807722.000000    50.000000     38.000000      5.000000     60.000000   \n",
      "\n",
      "           bra_size        user_id     shoe_size  \n",
      "count  76772.000000   82790.000000  27915.000000  \n",
      "mean      35.972125  498849.564718      8.145818  \n",
      "std        3.224907  286356.969459      1.336109  \n",
      "min       28.000000       6.000000      5.000000  \n",
      "25%       34.000000  252897.750000      7.000000  \n",
      "50%       36.000000  497913.500000      8.000000  \n",
      "75%       38.000000  744745.250000      9.000000  \n",
      "max       48.000000  999972.000000     38.000000  \n"
     ]
    }
   ],
   "source": [
    "## Statistical description\n",
    "\n",
    "import numpy as np\n",
    "# Bài tập 7: Hiển thị mô tả thống kê cho các cột số\n",
    "if 'mc_df' in locals():\n",
    "    print(\"Mô tả thống kê các biến số:\")\n",
    "    print(mc_df.describe(include = [np.number]))\n",
    "    ...\n",
    "else:\n",
    "    print(\"DataFrame 'mc_df' chưa được tải.\")"
   ]
  },
  {
   "cell_type": "markdown",
   "metadata": {
    "_uuid": "a96fec79cea18def7c1f2dfdd9b9d9aafc51b8bb",
    "id": "85AdSiHzI0Aa"
   },
   "source": [
    "Một số quan sát quan trọng hơn ở đây, trước khi chúng ta đi sâu vào thực hiện các tác vụ tiền xử lý trên dữ liệu của mình:\n",
    "\n",
    "* `bra_size`, `hips` có thể không cần phải là float - kiểu dữ liệu category?\n",
    "* Hầu hết các cỡ giày là khoảng 5-9, nhưng cỡ giày tối đa là 38! (Điều này đáng ngạc nhiên vì trang web sử dụng cỡ giày của Anh - UK sizing.)\n",
    "* `size` có giá trị tối thiểu là 0 và `size` tối đa khớp với cỡ giày tối đa.\n",
    "\n",
    "Hãy trực quan hóa các đại lượng số trong bộ dữ liệu của chúng ta dưới dạng biểu đồ hộp (boxplots), để có cảm nhận tốt hơn về các giá trị ngoại lai.\n",
    "\n",
    "<a id=\"5\"></a>\n",
    "## Biểu đồ hộp của các biến số"
   ]
  },
  {
   "cell_type": "code",
   "execution_count": null,
   "metadata": {
    "ExecuteTime": {
     "end_time": "2025-05-23T15:24:00.122770Z",
     "start_time": "2025-05-23T15:23:59.540377Z"
    },
    "_kg_hide-input": true,
    "_uuid": "cd363c3bc0f41c8aff52ece76320448238007815",
    "id": "91L7tXEmI0Aa",
    "trusted": true
   },
   "outputs": [
    {
     "data": {
      "image/png": "[encoded data removed]",
      "text/plain": [
       "<Figure size 1800x900 with 1 Axes>"
      ]
     },
     "metadata": {},
     "output_type": "display_data"
    }
   ],
   "source": [
    "# Bài tập 8: Vẽ biểu đồ hộp cho các biến số\n",
    "import matplotlib.pyplot as plt\n",
    "if 'mc_df' in locals():\n",
    "    # Chọn các cột số tiềm năng để vẽ boxplot\n",
    "    num_cols = ['bra_size', 'hips', 'quality', 'shoe_size', 'size', 'waist']\n",
    "\n",
    "    valid_num_cols = [col for col in num_cols if col in mc_df.columns and np.issubdtype(mc_df[col].dtype, np.number)]\n",
    "\n",
    "    if valid_num_cols:\n",
    "        plt.figure(figsize=(18, 9))\n",
    "        mc_df[valid_num_cols].dropna(axis=1, how='all').boxplot()\n",
    "        plt.title(\"Biểu đồ hộp các biến số trong bộ dữ liệu Modcloth\", fontsize=20)\n",
    "        plt.xticks(rotation=45)  # Xoay nhãn trục x nếu cần\n",
    "        plt.show()\n",
    "    else:\n",
    "        print(\"Không tìm thấy cột số hợp lệ nào để vẽ biểu đồ hộp.\")\n",
    "else:\n",
    "    print(\"DataFrame 'mc_df' chưa được tải.\")\n"
   ]
  },
  {
   "cell_type": "markdown",
   "metadata": {
    "_uuid": "b44f0dcc9640c6a6f23fc1504ddfb6ca9002fbca",
    "id": "vQjVw1g5I0Aa"
   },
   "source": [
    "<a id=\"6\"></a>\n",
    "## Xử lý các giá trị ngoại lai\n",
    "\n",
    "* **shoe_size**:\n",
    "  Chúng ta có thể thấy rõ rằng giá trị tối đa duy nhất của cỡ giày (38) là một giá trị ngoại lai và lý tưởng nhất là chúng ta nên loại bỏ hàng đó hoặc xử lý giá trị ngoại lai đó. Hãy xem xét mục nhập đó trong dữ liệu của chúng ta."
   ]
  },
  {
   "cell_type": "code",
   "execution_count": null,
   "metadata": {
    "ExecuteTime": {
     "end_time": "2025-05-23T15:24:02.926829Z",
     "start_time": "2025-05-23T15:24:02.911505Z"
    },
    "_kg_hide-input": true,
    "_kg_hide-output": true,
    "_uuid": "fb102b3319b704cf43220c62a8b8083f55ae80dd",
    "id": "_vothUQ8I0Aa",
    "trusted": true
   },
   "outputs": [
    {
     "name": "stdout",
     "output_type": "stream",
     "text": [
      "Giá trị shoe_size lớn nhất: 38.0\n",
      "\n",
      "Các hàng có shoe_size = 38.0:\n",
      "       item_id  waist  size  quality cup_size  hips  bra_size category   bust  \\\n",
      "37313   416942   35.0    12      5.0        d  46.0      36.0      new  37-39   \n",
      "\n",
      "        height   user_name      length  fit  user_id  shoe_size shoe_width  \\\n",
      "37313  5ft 5in  Catslittle  just right  fit   237498       38.0    average   \n",
      "\n",
      "                              review_summary  \\\n",
      "37313  Cardigans are best item Mod Cloth has   \n",
      "\n",
      "                                             review_text  \n",
      "37313  I love these cardigans, my favorite, good fabr...  \n"
     ]
    }
   ],
   "source": [
    "# Bài tập 9: Tìm và hiển thị hàng có giá trị shoe_size ngoại lai\n",
    "if 'mc_df' in locals() and 'shoe_size' in mc_df.columns:\n",
    "    # Tìm giá trị lớn nhất trong cột 'shoe_size'\n",
    "    max_shoe_size = mc_df['shoe_size'].max()\n",
    "    print(f\"Giá trị shoe_size lớn nhất: {max_shoe_size}\")\n",
    "\n",
    "    # Lọc và hiển thị các hàng có 'shoe_size' bằng với giá trị lớn nhất tìm được\n",
    "    outlier_rows = mc_df[mc_df['shoe_size'] == max_shoe_size]\n",
    "    print(f\"\\nCác hàng có shoe_size = {max_shoe_size}:\")\n",
    "    print(outlier_rows)\n",
    "else:\n",
    "    print(\"DataFrame 'mc_df' chưa được tải hoặc không có cột 'shoe_size'.\")\n"
   ]
  },
  {
   "cell_type": "markdown",
   "metadata": {
    "_uuid": "1761fc49243bba1384fc66ab55e3ee768c328e11",
    "id": "Bw7_l2pKI0Aa"
   },
   "source": [
    "> Chúng ta có thể thấy rằng mục nhập có vẻ hợp lệ, ngoại trừ cỡ giày - nó có thể bị khách hàng nhập sai hoặc đơn giản là nhiễu. Chúng ta sẽ nhập giá trị này là null (NaN) vào lúc này."
   ]
  },
  {
   "cell_type": "code",
   "execution_count": 30,
   "metadata": {
    "ExecuteTime": {
     "end_time": "2025-05-23T15:24:05.805774Z",
     "start_time": "2025-05-23T15:24:05.796637Z"
    },
    "_kg_hide-input": true,
    "_kg_hide-output": true,
    "_uuid": "83171c52966cbcbe26b5fc75deafe79806caa39b",
    "id": "yLO5LgRyI0Aa",
    "trusted": true
   },
   "outputs": [
    {
     "name": "stdout",
     "output_type": "stream",
     "text": [
      "Đã thay thế giá trị shoe_size = 38 bằng NaN.\n"
     ]
    }
   ],
   "source": [
    "import numpy as np\n",
    "\n",
    "if 'mc_df' in locals() and 'shoe_size' in mc_df.columns:\n",
    "    max_shoe_size = 38  # Giá trị ngoại lai đã xác định\n",
    "    if max_shoe_size in mc_df['shoe_size'].values:\n",
    "        # Thay thế giá trị shoe_size == max_shoe_size bằng np.nan\n",
    "        mc_df.loc[mc_df['shoe_size'] == max_shoe_size, 'shoe_size'] = np.nan\n",
    "        print(f\"Đã thay thế giá trị shoe_size = {max_shoe_size} bằng NaN.\")\n",
    "    else:\n",
    "        print(f\"Không tìm thấy giá trị shoe_size = {max_shoe_size} để thay thế.\")\n",
    "else:\n",
    "    print(\"DataFrame 'mc_df' chưa được tải hoặc không có cột 'shoe_size'.\")\n"
   ]
  },
  {
   "cell_type": "markdown",
   "metadata": {
    "_uuid": "bbdb1af79fd95484393854a3b522fef8b77d1cf9",
    "id": "om790QRqI0Aa"
   },
   "source": [
    "* **bra_size**:\n",
    "  Chúng ta có thể xem xét 10 cỡ áo ngực hàng đầu (chúng ta có thể thấy rằng biểu đồ hộp hiển thị 2 giá trị là ngoại lai, theo IQR - Khoảng tứ phân vị)."
   ]
  },
  {
   "cell_type": "code",
   "execution_count": 31,
   "metadata": {
    "ExecuteTime": {
     "end_time": "2025-05-23T15:24:08.370650Z",
     "start_time": "2025-05-23T15:24:08.313302Z"
    },
    "_kg_hide-output": true,
    "_uuid": "9db3c56fc9fed7c0bb0169ab0437cee1297d9a2f",
    "id": "ZeGjKPSWI0Aa",
    "scrolled": true,
    "trusted": true
   },
   "outputs": [
    {
     "name": "stdout",
     "output_type": "stream",
     "text": [
      "Số lượng theo bra_size (10 giá trị phổ biến nhất):\n",
      "bra_size\n",
      "28.0      258\n",
      "30.0     1052\n",
      "32.0    10026\n",
      "34.0    22412\n",
      "36.0    19624\n",
      "38.0    11923\n",
      "40.0     5115\n",
      "42.0     3373\n",
      "44.0     2014\n",
      "46.0      596\n",
      "Name: count, dtype: int64\n",
      "\n",
      "Ngưỡng trên cho ngoại lai bra_size (Q3 + 1.5*IQR): 44.0\n",
      "Ngưỡng dưới cho ngoại lai bra_size (Q1 - 1.5*IQR): 28.0\n",
      "\n",
      "Các giá trị bra_size có thể là ngoại lai: [46. 48.]\n",
      "\n",
      "10 hàng có bra_size lớn nhất:\n",
      "      bra_size cup_size  size category\n",
      "216       48.0        d    38      new\n",
      "634       48.0        c    33      new\n",
      "1217      48.0        c    32      new\n",
      "1281      48.0     dd/e    38      new\n",
      "1370      48.0        c    38      new\n",
      "1372      48.0        c    38      new\n",
      "1428      48.0    ddd/f    38      new\n",
      "1801      48.0        c    32      new\n",
      "1968      48.0     dd/e    32      new\n",
      "2890      48.0       aa    26      new\n"
     ]
    }
   ],
   "source": [
    "# Bài tập 11: Khám phá phân phối và ngoại lai của bra_size\n",
    "if 'mc_df' in locals() and 'bra_size' in mc_df.columns:\n",
    "    # Đếm số lần xuất hiện của mỗi giá trị trong cột 'bra_size'\n",
    "    bra_size_counts = mc_df['bra_size'].value_counts().sort_index()\n",
    "    print(\"Số lượng theo bra_size (10 giá trị phổ biến nhất):\")\n",
    "    print(bra_size_counts.head(10))\n",
    "\n",
    "    # Tính Q1, Q3, IQR để xác định ngưỡng ngoại lai\n",
    "    Q1 = mc_df['bra_size'].quantile(0.25)\n",
    "    Q3 = mc_df['bra_size'].quantile(0.75)\n",
    "    IQR = Q3 - Q1\n",
    "    upper_bound = Q3 + 1.5 * IQR\n",
    "    lower_bound = Q1 - 1.5 * IQR\n",
    "\n",
    "    print(f\"\\nNgưỡng trên cho ngoại lai bra_size (Q3 + 1.5*IQR): {upper_bound}\")\n",
    "    print(f\"Ngưỡng dưới cho ngoại lai bra_size (Q1 - 1.5*IQR): {lower_bound}\")\n",
    "\n",
    "    # Tìm các giá trị duy nhất có thể là ngoại lai\n",
    "    potential_outliers = mc_df[\n",
    "        (mc_df['bra_size'] > upper_bound) | (mc_df['bra_size'] < lower_bound)\n",
    "    ]['bra_size'].unique()\n",
    "    print(f\"\\nCác giá trị bra_size có thể là ngoại lai: {potential_outliers}\")\n",
    "\n",
    "    # Hiển thị 10 hàng có giá trị bra_size lớn nhất\n",
    "    if not mc_df['bra_size'].isnull().all():\n",
    "        largest_bra_sizes = mc_df.nlargest(10, 'bra_size')\n",
    "        print(\"\\n10 hàng có bra_size lớn nhất:\")\n",
    "        print(largest_bra_sizes[['bra_size', 'cup_size', 'size', 'category']])\n",
    "    else:\n",
    "        print(\"\\nCột 'bra_size' không có giá trị số hoặc rỗng.\")\n",
    "else:\n",
    "    print(\"DataFrame 'mc_df' chưa được tải hoặc không có cột 'bra_size'.\")\n"
   ]
  },
  {
   "cell_type": "markdown",
   "metadata": {
    "_uuid": "3ec8bdb5989d3697676776b58d133176d12ef74b",
    "id": "RoEtEap2I0Aa"
   },
   "source": [
    "<a id=\"7\"></a>\n",
    "## Phân phối kết hợp của bra_size và size\n",
    "\n",
    "Chúng ta có thể trực quan hóa sự phân phối của `bra_size` so với `size` (hai biến) để hiểu về các giá trị."
   ]
  },
  {
   "cell_type": "code",
   "execution_count": 32,
   "metadata": {
    "ExecuteTime": {
     "end_time": "2025-05-23T15:24:12.280386Z",
     "start_time": "2025-05-23T15:24:11.710223Z"
    },
    "_kg_hide-input": true,
    "_uuid": "033783bfb3a124311c3052696c110cd104f12cce",
    "id": "VjowJVWPI0Ab",
    "trusted": true
   },
   "outputs": [
    {
     "data": {
      "image/png": "[encoded data removed]",
      "text/plain": [
       "<Figure size 1800x800 with 1 Axes>"
      ]
     },
     "metadata": {},
     "output_type": "display_data"
    }
   ],
   "source": [
    "import matplotlib.pyplot as plt\n",
    "\n",
    "# Bài tập 12: Vẽ biểu đồ phân tán (scatter plot) cho bra_size và size\n",
    "if 'mc_df' in locals() and 'bra_size' in mc_df.columns and 'size' in mc_df.columns:\n",
    "    # Đảm bảo cả hai cột đều là số\n",
    "    mc_df['bra_size'] = pd.to_numeric(mc_df['bra_size'], errors='coerce')\n",
    "    mc_df['size'] = pd.to_numeric(mc_df['size'], errors='coerce')\n",
    "\n",
    "    # Bỏ các giá trị NaN để tránh lỗi khi vẽ\n",
    "    plot_df = mc_df.dropna(subset=['bra_size', 'size'])\n",
    "\n",
    "    plt.figure(figsize=(18, 8))\n",
    "    plt.xlabel(\"bra_size\", fontsize=18)\n",
    "    plt.ylabel(\"size\", fontsize=18)\n",
    "    plt.suptitle(\"Phân phối kết hợp của bra_size và size\", fontsize=20)\n",
    "\n",
    "    # Vẽ biểu đồ phân tán\n",
    "    plt.scatter(\n",
    "        plot_df['bra_size'],\n",
    "        plot_df['size'],\n",
    "        marker='o',\n",
    "        alpha=0.2,\n",
    "        color='blue'\n",
    "    )\n",
    "\n",
    "    plt.grid(True, linestyle='--', alpha=0.6)\n",
    "    plt.show()\n",
    "else:\n",
    "    print(\"❌ DataFrame 'mc_df' chưa được tải hoặc thiếu cột 'bra_size'/'size'.\")\n"
   ]
  },
  {
   "cell_type": "markdown",
   "metadata": {
    "_uuid": "9e73d7b2324d3b6fc33a7c847d5ab33c18ef7804",
    "id": "HCsD5kZXI0Ab"
   },
   "source": [
    "> Chúng ta không thể thấy bất kỳ độ lệch đáng kể nào so với hành vi thông thường đối với `bra_size`, thực tế đối với tất cả các biến số khác cũng vậy - chúng ta có thể mong đợi các giá trị ngoại lai 'rõ ràng', từ biểu đồ hộp, sẽ hoạt động tương tự. Bây giờ, chúng ta sẽ chuyển sang tiền xử lý bộ dữ liệu để có các trực quan hóa phù hợp.\n",
    ">\n",
    "> <a id=\"8\"></a>\n",
    "> # Làm sạch & Tiền xử lý dữ liệu\n",
    ">\n",
    "> Hãy xử lý các biến và thay đổi kiểu dữ liệu (dtype) thành loại phù hợp cho mỗi cột. Trước tiên, chúng ta định nghĩa một hàm để tạo biểu đồ phân phối của các biến khác nhau. Đây là phân phối ban đầu của các đặc trưng.\n",
    ">\n",
    "> **Lưu ý: Các biểu đồ phân phối cuối cùng ở [bên dưới](#dist_plots).**\n",
    ">\n",
    "> <a id=\"9\"></a>\n",
    "> ### Phân phối ban đầu của các đặc trưng"
   ]
  },
  {
   "cell_type": "code",
   "execution_count": null,
   "metadata": {
    "ExecuteTime": {
     "end_time": "2025-05-23T15:40:28.856356Z",
     "start_time": "2025-05-23T15:40:25.383241Z"
    },
    "_kg_hide-input": true,
    "_uuid": "d1ea1457cda3c52fd451c2c39dcfe12d0dac185b",
    "id": "fOLLMaUEI0Ab",
    "trusted": true
   },
   "outputs": [
    {
     "data": {
      "image/png": "[encoded data removed]",
      "text/plain": [
       "<Figure size 2200x1500 with 9 Axes>"
      ]
     },
     "metadata": {},
     "output_type": "display_data"
    }
   ],
   "source": [
    "# Hàm vẽ biểu đồ phân phối cho một cột (Đã cung cấp sẵn)\n",
    "def plot_dist(col, ax):\n",
    "    if col in mc_df.columns and mc_df[col].notnull().any():\n",
    "        data_to_plot = mc_df[col][mc_df[col].notnull()]\n",
    "        if data_to_plot.nunique() > 50:\n",
    "             top_values = data_to_plot.value_counts().nlargest(50)\n",
    "             top_values.plot(kind='bar', facecolor='y', ax=ax)\n",
    "             ax.set_title(f\"Phân phối {col} (Top 50) trên Modcloth\", fontsize= 16)\n",
    "        else:\n",
    "             data_to_plot.value_counts().plot(kind='bar', facecolor='y', ax=ax)\n",
    "             ax.set_title(f\"Phân phối {col} trên Modcloth\", fontsize= 16)\n",
    "        ax.set_xlabel(f'{col}', fontsize=18)\n",
    "        ax.tick_params(axis='x', rotation=90)\n",
    "    else:\n",
    "        ax.set_title(f\"Cột '{col}' không có dữ liệu hoặc không tồn tại\", fontsize=16)\n",
    "        ax.set_xlabel(f'{col}', fontsize=18)\n",
    "    return ax\n",
    "\n",
    "# Bài tập 13: Vẽ phân phối ban đầu của một số đặc trưng\n",
    "if 'mc_df' in locals():\n",
    "    # Danh sách các cột cần vẽ phân phối\n",
    "    cols_to_plot = ['bra_size','bust', 'category', 'cup_size', 'fit', 'height', 'hips', 'length', 'quality']\n",
    "    # Lọc ra các cột thực sự tồn tại trong DataFrame\n",
    "    existing_cols = [col for col in cols_to_plot if col in mc_df.columns]\n",
    "\n",
    "    if existing_cols:\n",
    "        n_cols_exist = len(existing_cols)\n",
    "        n_rows = (n_cols_exist + 2) // 3\n",
    "        n_cols_subplot = 3\n",
    "        f, ax = plt.subplots(n_rows, n_cols_subplot, figsize=(22, 5 * n_rows))\n",
    "        f.tight_layout(h_pad=9, w_pad=4, rect=[0, 0.03, 1, 0.95])\n",
    "        ax = ax.flatten()\n",
    "\n",
    "        k = 0\n",
    "        for i in range(n_rows):\n",
    "            for j in range(n_cols_subplot):\n",
    "                if k < n_cols_exist:\n",
    "                    # Gọi hàm plot_dist với cột và subplot tương ứng\n",
    "                    plot_dist(existing_cols[k], ax[k])\n",
    "                    k += 1\n",
    "                else:\n",
    "                     if k < len(ax):\n",
    "                        ax[k].axis('off')\n",
    "                     k += 1\n",
    "\n",
    "        while k < len(ax):\n",
    "            ax[k].axis('off')\n",
    "            k += 1\n",
    "        plt.suptitle(\"Phân phối ban đầu của các đặc trưng\", fontsize= 25, y=1.02)\n",
    "        plt.show()\n",
    "    else:\n",
    "        print(\"Không có cột nào trong danh sách `cols_to_plot` tồn tại trong DataFrame.\")\n",
    "else:\n",
    "    print(\"DataFrame 'mc_df' chưa được tải.\")\n"
   ]
  },
  {
   "cell_type": "markdown",
   "metadata": {
    "_uuid": "c2dc7e1e87c8c517abaa34edc0f1dbea305c41fe",
    "id": "AHOlzcitI0Ab"
   },
   "source": [
    "<a id=\"10\"></a>\n",
    "### Xử lý đặc trưng từng bước:\n",
    "\n",
    "* **bra_size:** Mặc dù trông có vẻ là số, nó chỉ nằm trong khoảng từ 28 đến 48, với hầu hết các kích cỡ nằm trong khoảng 34-38. Việc chuyển đổi nó sang kiểu dữ liệu *category* là hợp lý. Chúng ta sẽ điền các giá trị NA vào một danh mục 'Unknown'. Chúng ta có thể thấy ở trên rằng hầu hết người mua có cỡ áo ngực là 34 hoặc 36.\n",
    "* **bust**- Chúng ta có thể thấy bằng cách nhìn vào các giá trị không rỗng, rằng `bust` nên là kiểu dữ liệu số nguyên (integer). Chúng ta cũng cần xử lý một trường hợp đặc biệt khi `bust` được cung cấp là '37-39'. Chúng ta sẽ thay thế mục nhập '37-39' bằng giá trị trung bình, tức là 38, cho mục đích phân tích. Bây giờ chúng ta có thể chuyển đổi an toàn kiểu dữ liệu thành int. Tuy nhiên, xét rằng **khoảng 86% dữ liệu `bust` bị thiếu**, cuối cùng đã quyết định loại bỏ đặc trưng này.\n",
    "* **category**- không có giá trị nào bị thiếu; thay đổi thành kiểu dữ liệu *category*.\n",
    "* **cup size**- Thay đổi kiểu dữ liệu thành *category* cho cột này. Cột này có khoảng 7% giá trị bị thiếu. Xem xét các hàng mà giá trị này bị thiếu có thể gợi ý cho chúng ta cách xử lý các giá trị bị thiếu này."
   ]
  },
  {
   "cell_type": "code",
   "execution_count": null,
   "metadata": {
    "ExecuteTime": {
     "end_time": "2025-05-23T15:41:12.069461Z",
     "start_time": "2025-05-23T15:41:11.967084Z"
    },
    "_kg_hide-input": true,
    "_uuid": "ee223d46ac4cae59bef94a72d2f46e9b3d9411b1",
    "id": "r-CjCi0lI0Ab",
    "trusted": true
   },
   "outputs": [
    {
     "name": "stdout",
     "output_type": "stream",
     "text": [
      "Đã xử lý 'bra_size'.\n",
      "Đã loại bỏ cột 'bust'.\n",
      "Đã xử lý 'category'.\n",
      "\n",
      "Các giá trị duy nhất trong 'cup_size' trước khi xử lý:\n",
      "['d' 'b' 'dd/e' 'c' 'ddd/f' 'dddd/g' 'i' 'a' nan 'h' 'aa' 'j' 'k']\n",
      "\n",
      "Đã xử lý 'cup_size'.\n",
      "Các giá trị duy nhất trong 'cup_size' sau khi xử lý:\n",
      "['d', 'b', 'dd/e', 'c', 'ddd/f', ..., 'Unknown', 'h', 'aa', 'j', 'k']\n",
      "Length: 13\n",
      "Categories (13, object): ['Unknown', 'a', 'aa', 'b', ..., 'h', 'i', 'j', 'k']\n"
     ]
    }
   ],
   "source": [
    "## fillna by Unknown and preprocessing as required\n",
    "\n",
    "# Bài tập 14: Xử lý các cột bra_size, bust, category, cup_size\n",
    "if 'mc_df' in locals():\n",
    "    # Xử lý bra_size\n",
    "    if 'bra_size' in mc_df.columns:\n",
    "        mc_df['bra_size'] = mc_df['bra_size'].fillna('Unknown').astype('category')\n",
    "        print(\"Đã xử lý 'bra_size'.\")\n",
    "\n",
    "    # Xử lý bust (loại bỏ)\n",
    "    if 'bust' in mc_df.columns:\n",
    "        mc_df.drop('bust', axis=1, inplace=True)\n",
    "        print(\"Đã loại bỏ cột 'bust'.\")\n",
    "\n",
    "    # Xử lý category\n",
    "    if 'category' in mc_df.columns:\n",
    "        mc_df['category'] = mc_df['category'].astype('category')\n",
    "        print(\"Đã xử lý 'category'.\")\n",
    "\n",
    "    # Xử lý cup_size\n",
    "    if 'cup_size' in mc_df.columns:\n",
    "        print(\"\\nCác giá trị duy nhất trong 'cup_size' trước khi xử lý:\")\n",
    "        print(mc_df['cup_size'].unique()[:20])\n",
    "        mc_df['cup_size'] = mc_df['cup_size'].fillna('Unknown').astype('category')\n",
    "        print(\"\\nĐã xử lý 'cup_size'.\")\n",
    "        print(\"Các giá trị duy nhất trong 'cup_size' sau khi xử lý:\")\n",
    "        print(mc_df['cup_size'].unique())\n",
    "else:\n",
    "    print(\"DataFrame 'mc_df' chưa được tải.\")\n"
   ]
  },
  {
   "cell_type": "code",
   "execution_count": null,
   "metadata": {
    "ExecuteTime": {
     "end_time": "2025-05-23T15:41:31.225685Z",
     "start_time": "2025-05-23T15:41:31.197780Z"
    },
    "id": "2q07z1eha-Ne"
   },
   "outputs": [
    {
     "name": "stdout",
     "output_type": "stream",
     "text": [
      "\n",
      "20 mẫu ngẫu nhiên có cup_size là 'Unknown' (sau khi xử lý):\n",
      "       item_id  waist  size  quality cup_size  hips bra_size category  \\\n",
      "65164   673508    NaN    26      3.0  Unknown   NaN  Unknown  bottoms   \n",
      "32863   407574    NaN     8      4.0  Unknown  38.0  Unknown      new   \n",
      "40633   430795   33.0     4      4.0  Unknown  40.0  Unknown     tops   \n",
      "35341   412737    NaN    15      4.0  Unknown   NaN  Unknown      new   \n",
      "29426   404229    NaN    26      3.0  Unknown   NaN  Unknown      new   \n",
      "63835   668696    NaN    12      3.0  Unknown   NaN  Unknown  bottoms   \n",
      "18371   216517    NaN    12      5.0  Unknown   NaN  Unknown  dresses   \n",
      "64319   668696    NaN    12      3.0  Unknown   NaN  Unknown  bottoms   \n",
      "35866   414857    NaN    32      5.0  Unknown   NaN  Unknown      new   \n",
      "49865   538258    NaN    20      5.0  Unknown   NaN  Unknown     tops   \n",
      "44498   484879    NaN    26      1.0  Unknown   NaN  Unknown     tops   \n",
      "26467   397005    NaN    12      3.0  Unknown   NaN  Unknown  dresses   \n",
      "62655   660757    NaN    20      5.0  Unknown   NaN  Unknown      new   \n",
      "8952    161514    NaN    20      4.0  Unknown   NaN  Unknown  dresses   \n",
      "49729   530472    NaN     4      4.0  Unknown   NaN  Unknown     tops   \n",
      "32537   407134    NaN     8      5.0  Unknown   NaN  Unknown      new   \n",
      "42531   462796    NaN    12      5.0  Unknown   NaN  Unknown     tops   \n",
      "44124   479149    NaN    12      3.0  Unknown   NaN  Unknown     tops   \n",
      "34945   412737    NaN     8      4.0  Unknown   NaN  Unknown      new   \n",
      "75394   757242    NaN     8      3.0  Unknown   NaN  Unknown  bottoms   \n",
      "\n",
      "        height            user_name          length    fit  user_id  \\\n",
      "65164  5ft 2in            Samebelle   slightly long  large   709775   \n",
      "32863  5ft 4in          emmajunebug      just right    fit   279840   \n",
      "40633  5ft 8in  elizabethsbates6803  slightly short  small   331147   \n",
      "35341  5ft 9in      staceymorris811  slightly short    fit   596846   \n",
      "29426  5ft 9in           mini_maize   slightly long  large   868915   \n",
      "63835  5ft 4in              esteskk       very long  large   386456   \n",
      "18371  5ft 4in          steph.maine   slightly long    fit   736463   \n",
      "64319  5ft 6in                Xhesi      just right    fit   153069   \n",
      "35866  5ft 6in        em_commerford      just right    fit   761122   \n",
      "49865  5ft 5in                 Nata      just right    fit   268098   \n",
      "44498  5ft 4in              CYN1022      just right    fit   329553   \n",
      "26467  5ft 7in         filgreat2010      very short    fit   665730   \n",
      "62655  5ft 9in               chow.m      just right    fit   453677   \n",
      "8952   5ft 9in             a_dvdson      just right  small   777989   \n",
      "49729  5ft 4in               lauren  slightly short    fit   329097   \n",
      "32537  5ft 5in              rsong14      just right    fit   585851   \n",
      "42531  5ft 2in                Linda      just right    fit   891681   \n",
      "44124  5ft 7in      creationsaustin      just right    fit   713547   \n",
      "34945  5ft 5in           lobianco.r      just right    fit   996443   \n",
      "75394  5ft 6in        madisonbmoran      just right    fit   313160   \n",
      "\n",
      "       shoe_size shoe_width                  review_summary  \\\n",
      "65164        NaN        NaN                 These run large   \n",
      "32863        NaN        NaN       Its ok, but not for me. F   \n",
      "40633        NaN        NaN       Super Cute, Not great fit   \n",
      "35341        NaN        NaN       I bought this to wear whi   \n",
      "29426        NaN        NaN        A little sheer, but with   \n",
      "63835        NaN        NaN       Nice quality but it overw   \n",
      "18371        NaN        NaN              Perfect Fall Dress   \n",
      "64319        NaN        NaN                    Love it!!!!!   \n",
      "35866        NaN        NaN       I love these cardigan's I   \n",
      "49865        NaN        NaN       Absolutely love this top.   \n",
      "44498        NaN        NaN  So want to give a 5 Star!  Ugh   \n",
      "26467        8.5        NaN        Cute dress. Only that it   \n",
      "62655        9.5    average       The cut of the skirt is g   \n",
      "8952         NaN        NaN        I have bought 2x other I   \n",
      "49729        6.5    average       I loved the print on this   \n",
      "32537        NaN        NaN       I love this sweater! Very   \n",
      "42531        NaN        NaN       Great length to wear with   \n",
      "44124        NaN        NaN       Very nice, but the arms a   \n",
      "34945        NaN        NaN        DRY CLEAN ONLY!!! Really   \n",
      "75394        NaN        NaN        I love the color of this   \n",
      "\n",
      "                                             review_text  \n",
      "65164  I am a 2x, and these jeans looked great in pic...  \n",
      "32863  Its ok, but not for me. Fit wasn't flattering....  \n",
      "40633  This dress in theory is a super cute dress. Th...  \n",
      "35341  I bought this to wear while I'm pregnant. Fits...  \n",
      "29426  A little sheer, but with a cami under perfect ...  \n",
      "63835  Nice quality but it overwhelmed me fabric wise...  \n",
      "18371  Such a beautiful dress! Perfect fall colors! A...  \n",
      "64319                                       Love it!!!!!  \n",
      "35866  I love these cardigan's I now have a red,white...  \n",
      "49865                          Absolutely love this top.  \n",
      "44498  I bought this too awhile ago. I wore it one ti...  \n",
      "26467  Cute dress. Only that it was shorter than expe...  \n",
      "62655  The cut of the skirt is great with the stripes...  \n",
      "8952   I have bought 2x other I love you dresses in s...  \n",
      "49729  I loved the print on this and had to get it. T...  \n",
      "32537  I love this sweater! Very stylish and unique f...  \n",
      "42531  Great length to wear with leggings and very go...  \n",
      "44124  Very nice, but the arms are short.  About mid ...  \n",
      "34945  DRY CLEAN ONLY!!! Really cute, but when zipped...  \n",
      "75394  I love the color of this skirt. I'm 5'6 and it...  \n"
     ]
    }
   ],
   "source": [
    "# Bài tập 15: Hiển thị các mẫu có cup_size là 'Unknown'\n",
    "if 'mc_df' in locals() and 'cup_size' in mc_df.columns and 'Unknown' in mc_df['cup_size'].cat.categories:\n",
    "     print(\"\\n20 mẫu ngẫu nhiên có cup_size là 'Unknown' (sau khi xử lý):\")\n",
    "     unknown_cup_size_df = mc_df[mc_df['cup_size'] == 'Unknown']\n",
    "     print(unknown_cup_size_df.sample(min(20, len(unknown_cup_size_df))))\n",
    "elif 'mc_df' in locals() and 'cup_size' in mc_df.columns:\n",
    "     print(\"\\nKhông tìm thấy giá trị 'Unknown' trong cột 'cup_size' đã xử lý.\")\n",
    "else:\n",
    "     print(\"DataFrame 'mc_df' chưa được tải hoặc không có cột 'cup_size'.\")\n"
   ]
  },
  {
   "cell_type": "code",
   "execution_count": 37,
   "metadata": {
    "ExecuteTime": {
     "end_time": "2025-05-23T15:55:52.141962Z",
     "start_time": "2025-05-23T15:55:52.133968Z"
    },
    "_kg_hide-output": true,
    "_uuid": "a921aa77e0302b16d33a449b21888b38849a5976",
    "id": "k39U-JnTI0Ab",
    "scrolled": true,
    "trusted": true
   },
   "outputs": [
    {
     "name": "stdout",
     "output_type": "stream",
     "text": [
      "0\n"
     ]
    }
   ],
   "source": [
    "print(mc_df['cup_size'].isnull().sum())  # Số lượng NaN còn lại\n"
   ]
  },
  {
   "cell_type": "markdown",
   "metadata": {
    "_uuid": "806df50e7ebae0c3fa8296592a8566a080ec9b92",
    "id": "9zaZcJ0GI0Ab"
   },
   "source": [
    "> Chúng ta không thể thấy bất cứ điều gì rõ ràng từ các hàng mà dữ liệu này bị thiếu, tuy nhiên, theo người quản lý bộ dữ liệu - \"***Lưu ý rằng các bộ dữ liệu này rất thưa thớt, với hầu hết các sản phẩm và khách hàng chỉ có một giao dịch duy nhất.***\" Điều đó chỉ ra rằng có lẽ những khách hàng này chưa mua đồ lót từ modcloth và do đó modcloth không có dữ liệu đó. Vì vậy, việc điền các giá trị null này là 'Unknown' là hợp lý. Từ sự phổ biến của các giá trị như dd/e, ddd/f và dddd/g, chúng ta có thể giả định đây là các cỡ cúp hợp lệ, cũng được xác nhận bởi bài viết [**này**](https://www.herroom.com/full-figure-bra-cup-sizing,905,30.html), trong đó một số thương hiệu thay đổi cỡ cúp dd thành e, ddd thành f, v.v. Chúng ta có thể chuyển đổi trực tiếp thành kiểu dữ liệu *category*."
   ]
  },
  {
   "cell_type": "markdown",
   "metadata": {
    "_uuid": "db91371bb6c87d77d2579eb77c0d912260c6ad67",
    "id": "hXHq1R4iI0Ab"
   },
   "source": [
    "* **fit**- Thay đổi kiểu dữ liệu thành *category* cho cột này. Chúng ta có thể thấy rằng đại đa số khách hàng đã đưa ra phản hồi 'vừa vặn' (fit) tốt cho các mặt hàng trên Modcloth!"
   ]
  },
  {
   "cell_type": "code",
   "execution_count": null,
   "metadata": {
    "ExecuteTime": {
     "end_time": "2025-05-23T15:56:59.100304Z",
     "start_time": "2025-05-23T15:56:59.048303Z"
    },
    "_kg_hide-input": true,
    "_uuid": "b3d9b0dc9fd2e41d464f124c81b532e6246cba21",
    "id": "t_SsdOhoI0Ab",
    "trusted": true
   },
   "outputs": [
    {
     "name": "stdout",
     "output_type": "stream",
     "text": [
      "Các giá trị duy nhất trong 'fit': ['small' 'fit' 'large']\n",
      "Đã xử lý 'fit'.\n",
      "\n",
      "Số lượng theo 'fit':\n",
      "fit\n",
      "fit      56757\n",
      "large    13059\n",
      "small    12974\n",
      "Name: count, dtype: int64\n"
     ]
    }
   ],
   "source": [
    "# Bài tập 16: Xử lý cột 'fit'\n",
    "if 'mc_df' in locals():\n",
    "    if 'fit' in mc_df.columns:\n",
    "        print(\"Các giá trị duy nhất trong 'fit':\", mc_df['fit'].unique())\n",
    "        mc_df['fit'] = mc_df['fit'].astype('category')\n",
    "        print(\"Đã xử lý 'fit'.\")\n",
    "        print(\"\\nSố lượng theo 'fit':\")\n",
    "        # In ra số lượng của mỗi giá trị trong cột 'fit'\n",
    "        print(mc_df['fit'].value_counts())\n",
    "else:\n",
    "    print(\"DataFrame 'mc_df' chưa được tải.\")\n"
   ]
  },
  {
   "cell_type": "markdown",
   "metadata": {
    "_uuid": "aed23a62601b5861862241f6a73f921d3ec3db30",
    "id": "2ScOWz10I0Ac"
   },
   "source": [
    "* **height**- Chúng ta cần phân tích cú pháp cột chiều cao vì hiện tại nó là một đối tượng chuỗi, có dạng - Xft. Yin. Việc chuyển đổi chiều cao sang cm sẽ hợp lý. Chúng ta cũng xem xét các hàng mà dữ liệu chiều cao bị thiếu."
   ]
  },
  {
   "cell_type": "code",
   "execution_count": null,
   "metadata": {
    "ExecuteTime": {
     "end_time": "2025-05-23T15:57:24.606306Z",
     "start_time": "2025-05-23T15:57:24.437389Z"
    },
    "_kg_hide-input": true,
    "_uuid": "a996e7260b78b3e3594c67b49d36db0936478289",
    "id": "G4ehxNVYI0Ac",
    "trusted": true
   },
   "outputs": [
    {
     "name": "stdout",
     "output_type": "stream",
     "text": [
      "Kiểu dữ liệu 'height' trước khi chuyển đổi: object\n",
      "Một số giá trị 'height' ban đầu: ['5ft 6in' '5ft 2in' '5ft 7in' nan '5ft 4in' '5ft 3in' '5ft 5in'\n",
      " '5ft 10in' '5ft 8in' '5ft']\n",
      "\n",
      "Kiểu dữ liệu 'height' sau khi chuyển đổi: float64\n",
      "Một số giá trị 'height' sau khi chuyển đổi (cm): [nan]\n",
      "\n",
      "Số giá trị null trong 'height' sau khi chuyển đổi: 82790\n",
      "\n",
      "Mô tả cột 'height' sau khi chuyển đổi:\n",
      "count    0.0\n",
      "mean     NaN\n",
      "std      NaN\n",
      "min      NaN\n",
      "25%      NaN\n",
      "50%      NaN\n",
      "75%      NaN\n",
      "max      NaN\n",
      "Name: height, dtype: float64\n"
     ]
    }
   ],
   "source": [
    "import re # Import thư viện regular expression\n",
    "\n",
    "# Bài tập 17: Viết hàm chuyển đổi chiều cao và áp dụng\n",
    "# Hàm chuyển đổi chiều cao từ 'X ft Y in' hoặc 'X\\'Y\"' sang cm\n",
    "def get_cms(x):\n",
    "    if pd.isnull(x):\n",
    "        return np.nan\n",
    "    try:\n",
    "        match = re.match(r\"(\\d+)\\s*'\\s*(\\d+)\\s*\\\"\", x)\n",
    "        if match:\n",
    "            # Lấy giá trị feet và inches từ match.group() và chuyển thành số nguyên\n",
    "            feet = int(match.group(1))\n",
    "            inches = int(match.group(2))\n",
    "            # Tính toán và trả về chiều cao bằng cm (1 ft = 30.48 cm, 1 in = 2.54 cm)\n",
    "            return (feet * 30.48) + (inches * 2.54)\n",
    "        else:\n",
    "            return np.nan # Trả về NaN nếu không khớp định dạng\n",
    "    except:\n",
    "        return np.nan\n",
    "\n",
    "if 'mc_df' in locals() and 'height' in mc_df.columns:\n",
    "    print(\"Kiểu dữ liệu 'height' trước khi chuyển đổi:\", mc_df['height'].dtype)\n",
    "    print(\"Một số giá trị 'height' ban đầu:\", mc_df['height'].unique()[:10])\n",
    "    mc_df['height'] = mc_df['height'].apply(get_cms)\n",
    "\n",
    "    print(\"\\nKiểu dữ liệu 'height' sau khi chuyển đổi:\", mc_df['height'].dtype)\n",
    "    print(\"Một số giá trị 'height' sau khi chuyển đổi (cm):\", mc_df['height'].unique()[:10])\n",
    "    # In số lượng giá trị null trong cột 'height' sau khi chuyển đổi\n",
    "    print(f\"\\nSố giá trị null trong 'height' sau khi chuyển đổi: { mc_df['height'].isnull().sum() }\")\n",
    "\n",
    "    # Mô tả cột height sau chuyển đổi\n",
    "    print(\"\\nMô tả cột 'height' sau khi chuyển đổi:\")\n",
    "    # Sử dụng .describe() cho cột 'height'\n",
    "    print(mc_df['height'].describe())\n",
    "else:\n",
    "    print(\"DataFrame 'mc_df' chưa được tải hoặc không có cột 'height'.\")\n"
   ]
  },
  {
   "cell_type": "code",
   "execution_count": null,
   "metadata": {
    "ExecuteTime": {
     "end_time": "2025-05-23T15:57:45.194498Z",
     "start_time": "2025-05-23T15:57:45.130473Z"
    },
    "_kg_hide-output": true,
    "_uuid": "f93d60257e5e06e48bb93070fd308b3c206d8986",
    "id": "DGl7mgEfI0Ac",
    "scrolled": true,
    "trusted": true
   },
   "outputs": [
    {
     "name": "stdout",
     "output_type": "stream",
     "text": [
      "Số hàng có 'height' bị thiếu: 82790\n",
      "\n",
      "20 hàng đầu có 'height' bị thiếu (sau khi xử lý):\n",
      "    item_id category    fit  height bra_size cup_size  hips  shoe_size  \\\n",
      "0    123373      new  small     NaN     34.0        d  38.0        NaN   \n",
      "1    123373      new  small     NaN     36.0        b  30.0        NaN   \n",
      "2    123373      new  small     NaN     32.0        b   NaN        9.0   \n",
      "3    123373      new    fit     NaN  Unknown     dd/e   NaN        NaN   \n",
      "4    123373      new  small     NaN     36.0        b   NaN        NaN   \n",
      "5    123373      new  small     NaN     36.0        c  41.0        NaN   \n",
      "6    123373      new  large     NaN     32.0        b   NaN        NaN   \n",
      "7    123373      new  small     NaN     38.0        d  42.0        8.5   \n",
      "8    123373      new  small     NaN     42.0        d  50.0       11.0   \n",
      "9    123373      new    fit     NaN     36.0     dd/e  41.0        9.0   \n",
      "10   123373      new  small     NaN     40.0        d  49.0        NaN   \n",
      "11   123373      new  small     NaN     44.0    ddd/f  60.0        NaN   \n",
      "12   123373      new    fit     NaN     34.0        c   NaN        NaN   \n",
      "13   123373      new    fit     NaN     34.0     dd/e   NaN        NaN   \n",
      "14   123373      new    fit     NaN     34.0        b  36.0        NaN   \n",
      "15   123373      new    fit     NaN     40.0        c  50.0        NaN   \n",
      "16   123373      new    fit     NaN     36.0        d  44.0        8.5   \n",
      "17   123373      new  large     NaN     36.0   dddd/g   NaN        NaN   \n",
      "18   123373      new  large     NaN     36.0        d  39.0        8.5   \n",
      "19   123373      new    fit     NaN     34.0     dd/e  35.0        NaN   \n",
      "\n",
      "   shoe_width  waist  user_id  \n",
      "0         NaN   29.0   991571  \n",
      "1         NaN   31.0   587883  \n",
      "2         NaN   30.0   395665  \n",
      "3         NaN    NaN   875643  \n",
      "4         NaN    NaN   944840  \n",
      "5         NaN   27.0   162012  \n",
      "6         NaN   26.0   114843  \n",
      "7         NaN    NaN    58869  \n",
      "8        wide    NaN   279568  \n",
      "9         NaN    NaN   950172  \n",
      "10        NaN    NaN   205796  \n",
      "11        NaN    NaN   422613  \n",
      "12        NaN    NaN    42840  \n",
      "13        NaN    NaN   767255  \n",
      "14        NaN    NaN   510154  \n",
      "15        NaN    NaN   780339  \n",
      "16        NaN    NaN   936337  \n",
      "17        NaN    NaN   128353  \n",
      "18        NaN    NaN    21605  \n",
      "19        NaN    NaN   328698  \n"
     ]
    }
   ],
   "source": [
    "# Bài tập 18: Hiển thị các hàng có 'height' bị thiếu\n",
    "if 'mc_df' in locals() and 'height' in mc_df.columns:\n",
    "    missing_height_df = mc_df[mc_df['height'].isnull()]\n",
    "    print(f\"Số hàng có 'height' bị thiếu: {len(missing_height_df)}\")\n",
    "    print(\"\\n20 hàng đầu có 'height' bị thiếu (sau khi xử lý):\")\n",
    "    cols_to_show = ['item_id', 'category', 'fit', 'height', 'bra_size', 'cup_size', 'hips', 'shoe_size', 'shoe_width', 'waist', 'user_id']\n",
    "    existing_cols_to_show = [col for col in cols_to_show if col in mc_df.columns]\n",
    "    # Hiển thị 20 hàng đầu của missing_height_df với các cột trong existing_cols_to_show\n",
    "    print(missing_height_df[existing_cols_to_show].head(20))\n",
    "else:\n",
    "    print(\"DataFrame 'mc_df' chưa được tải hoặc không có cột 'height'.\")\n"
   ]
  },
  {
   "cell_type": "markdown",
   "metadata": {
    "_uuid": "83ce06c35d55462861a00e75efb724153106870f",
    "id": "iExxcSCHI0Ac"
   },
   "source": [
    "> Việc lọc này cho chúng ta những quan sát thú vị ở đây:\n",
    ">\n",
    "> 1. Một số khách hàng đã cung cấp dữ liệu `bra_size`, `cup_size`, trong khi tất cả các số đo khác đều trống - có thể là lần mua hàng đầu tiên tại Modcloth cho đồ lót!\n",
    "> 2. Một số khách hàng đã cung cấp `shoe_size` và tất cả các số đo khác đều trống - có thể là lần mua hàng đầu tiên tại Modcloth cho giày!\n",
    ">\n",
    "> Điều đó dẫn chúng ta đến việc nói rằng có một số người mua lần đầu trong bộ dữ liệu, cũng được các tác giả của dữ liệu đề cập trong [1] - về sự thưa thớt của dữ liệu do 1 giao dịch! Ngoài ra, vì chúng ta không có dữ liệu về chiều cao của những khách hàng này, nên chỉ có lý khi để lại các giá trị bị thiếu trong cột và **có thể loại bỏ các hàng này để lập mô hình thống kê trong tương lai.** Chúng ta đã loại bỏ các hàng tương ứng. (Lưu ý: Mã trong notebook gốc không xóa các hàng này ở bước này, cần xác nhận lại logic)\n",
    ">\n",
    "> <a id=\"11\"></a>\n",
    "> # Kỹ thuật đặc trưng (Feature Engineering)\n",
    ">\n",
    "> ## Tạo một đặc trưng mới: first_time_user\n",
    ">\n",
    "> Dựa trên các quan sát của chúng ta ở trên, việc xác định các giao dịch thuộc về người dùng lần đầu là hợp lý. Chúng ta sử dụng logic sau để xác định các giao dịch như vậy:\n",
    ">\n",
    "> * Nếu `bra_size`/`cup_size` có giá trị và `height`, `hips`, `shoe_size`, `shoe_width` và `waist` không có - đó là người mua đồ lót lần đầu.\n",
    "> * Nếu `shoe_size`/`shoe_width` có giá trị và `bra_size`, `cup_size`, `height`, `hips`, và `waist` không có - đó là người mua giày lần đầu.\n",
    "> * Nếu `hips`/`waist` có giá trị và `bra_size`, `cup_size`, `height`, `shoe_size`, và `shoe_width` không có - đó là người mua váy/áo lần đầu.\n",
    ">\n",
    "> Dưới đây chúng ta sẽ xác minh logic trên, với các mẫu, trước khi chúng ta tạo đặc trưng mới.\n",
    ">\n",
    "> **1. Xem xét một vài hàng mà `bra_size` hoặc `cup_size` tồn tại, nhưng không có số đo nào khác.**\n",
    "> **2. Xem xét một vài hàng mà `shoe_size` hoặc `shoe_width` tồn tại, nhưng không có số đo nào khác.**\n",
    "> **3. Xem xét một vài hàng mà `hips` hoặc `waist` tồn tại, nhưng không có số đo nào khác.**"
   ]
  },
  {
   "cell_type": "code",
   "execution_count": null,
   "metadata": {
    "ExecuteTime": {
     "end_time": "2025-05-23T15:58:22.602462Z",
     "start_time": "2025-05-23T15:58:22.542485Z"
    },
    "_kg_hide-input": true,
    "_kg_hide-output": true,
    "_uuid": "e1fa8f4fb65b49602086147c1c4dece7fdc7a2cf",
    "id": "k5uP4Dp4I0Ac",
    "trusted": true
   },
   "outputs": [
    {
     "name": "stdout",
     "output_type": "stream",
     "text": [
      "--- Mẫu người mua đồ lót lần đầu ---\n",
      "   bra_size cup_size  height  hips  shoe_size shoe_width  waist category\n",
      "3   Unknown     dd/e     NaN   NaN        NaN        NaN    NaN      new\n",
      "4      36.0        b     NaN   NaN        NaN        NaN    NaN      new\n",
      "12     34.0        c     NaN   NaN        NaN        NaN    NaN      new\n",
      "13     34.0     dd/e     NaN   NaN        NaN        NaN    NaN      new\n",
      "17     36.0   dddd/g     NaN   NaN        NaN        NaN    NaN      new\n",
      "\n",
      "--- Mẫu người mua giày lần đầu ---\n",
      "    bra_size cup_size  height  hips  shoe_size shoe_width  waist category\n",
      "61   Unknown  Unknown     NaN   NaN        NaN        NaN    NaN      new\n",
      "70   Unknown  Unknown     NaN   NaN        NaN        NaN    NaN      new\n",
      "72   Unknown  Unknown     NaN   NaN        NaN        NaN    NaN      new\n",
      "99   Unknown  Unknown     NaN   NaN        NaN        NaN    NaN      new\n",
      "101  Unknown  Unknown     NaN   NaN        NaN        NaN    NaN      new\n",
      "\n",
      "--- Mẫu người mua váy/áo lần đầu ---\n",
      "Empty DataFrame\n",
      "Columns: [bra_size, cup_size, height, hips, shoe_size, shoe_width, waist, category]\n",
      "Index: []\n"
     ]
    }
   ],
   "source": [
    "# Bài tập 19: Xác định các điều kiện cho người dùng lần đầu\n",
    "if 'mc_df' in locals():\n",
    "    required_cols = ['bra_size', 'cup_size', 'height', 'hips', 'shoe_size', 'shoe_width', 'waist']\n",
    "    if all(col in mc_df.columns for col in required_cols):\n",
    "\n",
    "        lingerie_cond = (\n",
    "            ((mc_df['bra_size'] != 'Unknown') | (mc_df['cup_size'] != 'Unknown')) &\n",
    "            (mc_df['height'].isnull()) &\n",
    "            (mc_df['hips'].isnull()) &\n",
    "            (mc_df['shoe_size'].isnull()) &\n",
    "            (mc_df['shoe_width'].isnull()) &\n",
    "            (mc_df['waist'].isnull())\n",
    "        )\n",
    "        print(\"--- Mẫu người mua đồ lót lần đầu ---\")\n",
    "        print(mc_df[lingerie_cond][required_cols + ['category']].head())\n",
    "\n",
    "        shoe_width_notnull_check = (\n",
    "            mc_df['shoe_width'].notnull() if pd.api.types.is_numeric_dtype(mc_df['shoe_width'])\n",
    "            else (mc_df['shoe_width'] != 'Unknown')\n",
    "        )\n",
    "        shoe_cond = (\n",
    "            (mc_df['bra_size'] == 'Unknown') & (mc_df['cup_size'] == 'Unknown') &\n",
    "            (mc_df['height'].isnull()) & (mc_df['hips'].isnull()) & (mc_df['waist'].isnull()) &\n",
    "            ((mc_df['shoe_size'].notnull()) | shoe_width_notnull_check)\n",
    "        )\n",
    "        print(\"\\n--- Mẫu người mua giày lần đầu ---\")\n",
    "        print(mc_df[shoe_cond][required_cols + ['category']].head())\n",
    "\n",
    "        shoe_width_isnull_check = (\n",
    "            mc_df['shoe_width'].isnull() if pd.api.types.is_numeric_dtype(mc_df['shoe_width'])\n",
    "            else (mc_df['shoe_width'] == 'Unknown')\n",
    "        )\n",
    "        dress_cond = (\n",
    "            (mc_df['bra_size'] == 'Unknown') & (mc_df['cup_size'] == 'Unknown') &\n",
    "            mc_df['height'].isnull() &\n",
    "            (mc_df['hips'].notnull() | mc_df['waist'].notnull()) &\n",
    "            mc_df['shoe_size'].isnull() & shoe_width_isnull_check\n",
    "        )\n",
    "        print(\"\\n--- Mẫu người mua váy/áo lần đầu ---\")\n",
    "        print(mc_df[dress_cond][required_cols + ['category']].head())\n",
    "\n",
    "    else:\n",
    "        print(\"Một số cột cần thiết để xác định người dùng lần đầu không tồn tại hoặc chưa được xử lý.\")\n",
    "else:\n",
    "    print(\"DataFrame 'mc_df' chưa được tải.\")\n"
   ]
  },
  {
   "cell_type": "markdown",
   "metadata": {
    "_uuid": "6444762751d31966aeebd91e029d93e2f96d8412",
    "id": "NRZr7zXZI0Ac"
   },
   "source": [
    "> Bây giờ chúng ta thêm một cột mới vào dữ liệu gốc - `first_time_user`, là một đặc trưng bool cho biết liệu người dùng của một giao dịch có phải là người dùng lần đầu hay không. Điều này dựa trên cơ sở rằng Modcloth không có thông tin trước đó về người đó, thực tế có thể người dùng mới đã thực hiện nhiều giao dịch trong lần đầu tiên!"
   ]
  },
  {
   "cell_type": "code",
   "execution_count": null,
   "metadata": {
    "ExecuteTime": {
     "end_time": "2025-05-23T15:58:56.145550Z",
     "start_time": "2025-05-23T15:58:56.084557Z"
    },
    "_kg_hide-input": true,
    "_uuid": "182dbd7d520b00484382f717c6a2681c8e618141",
    "id": "-qcsqJA4I0Ak",
    "trusted": true
   },
   "outputs": [
    {
     "name": "stdout",
     "output_type": "stream",
     "text": [
      "Số lượng khớp điều kiện đồ lót: 16280\n",
      "Số lượng khớp điều kiện giày: 4519\n",
      "Số lượng khớp điều kiện váy/áo: 0\n",
      "\n",
      "Đã thêm cột 'first_time_user'!\n",
      "Tổng số giao dịch của người dùng lần đầu (theo logic trên): 20799\n",
      "Tổng số người dùng lần đầu duy nhất: 13264\n",
      "\n",
      "Ví dụ về các hàng được đánh dấu là first_time_user=True:\n",
      "   bra_size cup_size  height  hips  shoe_size shoe_width  waist  \\\n",
      "3   Unknown     dd/e     NaN   NaN        NaN        NaN    NaN   \n",
      "4      36.0        b     NaN   NaN        NaN        NaN    NaN   \n",
      "12     34.0        c     NaN   NaN        NaN        NaN    NaN   \n",
      "13     34.0     dd/e     NaN   NaN        NaN        NaN    NaN   \n",
      "17     36.0   dddd/g     NaN   NaN        NaN        NaN    NaN   \n",
      "\n",
      "    first_time_user  \n",
      "3              True  \n",
      "4              True  \n",
      "12             True  \n",
      "13             True  \n",
      "17             True  \n"
     ]
    }
   ],
   "source": [
    "    # Bài tập 20: Tạo cột 'first_time_user'\n",
    "if 'mc_df' in locals():\n",
    "    if all(col in mc_df.columns for col in required_cols):\n",
    "        lingerie_cond = (\n",
    "            ((mc_df['bra_size'] != 'Unknown') | (mc_df['cup_size'] != 'Unknown')) &\n",
    "            (mc_df['height'].isnull()) &\n",
    "            (mc_df['hips'].isnull()) &\n",
    "            (mc_df['shoe_size'].isnull()) &\n",
    "            (mc_df['shoe_width'].isnull()) &\n",
    "            (mc_df['waist'].isnull())\n",
    "        )\n",
    "\n",
    "        shoe_width_notnull_check = (\n",
    "            mc_df['shoe_width'].notnull() if pd.api.types.is_numeric_dtype(mc_df['shoe_width'])\n",
    "            else (mc_df['shoe_width'] != 'Unknown')\n",
    "        )\n",
    "        shoe_cond = (\n",
    "            (mc_df['bra_size'] == 'Unknown') & (mc_df['cup_size'] == 'Unknown') &\n",
    "            (mc_df['height'].isnull()) & (mc_df['hips'].isnull()) & (mc_df['waist'].isnull()) &\n",
    "            ((mc_df['shoe_size'].notnull()) | shoe_width_notnull_check)\n",
    "        )\n",
    "\n",
    "        shoe_width_isnull_check = (\n",
    "            mc_df['shoe_width'].isnull() if pd.api.types.is_numeric_dtype(mc_df['shoe_width'])\n",
    "            else (mc_df['shoe_width'] == 'Unknown')\n",
    "        )\n",
    "        dress_cond = (\n",
    "            (mc_df['bra_size'] == 'Unknown') & (mc_df['cup_size'] == 'Unknown') &\n",
    "            mc_df['height'].isnull() &\n",
    "            (mc_df['hips'].notnull() | mc_df['waist'].notnull()) &\n",
    "            mc_df['shoe_size'].isnull() & shoe_width_isnull_check\n",
    "        )\n",
    "\n",
    "        # In ra số lượng bản ghi khớp với từng điều kiện để kiểm tra\n",
    "        print(f\"Số lượng khớp điều kiện đồ lót: {lingerie_cond.sum()}\")\n",
    "        print(f\"Số lượng khớp điều kiện giày: {shoe_cond.sum()}\")\n",
    "        print(f\"Số lượng khớp điều kiện váy/áo: {dress_cond.sum()}\")\n",
    "\n",
    "        mc_df['first_time_user'] = (lingerie_cond | shoe_cond | dress_cond)\n",
    "        print(\"\\nĐã thêm cột 'first_time_user'!\")\n",
    "        # In tổng số giao dịch của người dùng lần đầu (tổng của cột 'first_time_user')\n",
    "        print(f\"Tổng số giao dịch của người dùng lần đầu (theo logic trên): { mc_df.first_time_user.sum() }\")\n",
    "\n",
    "        first_time_user_ids = mc_df[mc_df['first_time_user']]['user_id'].unique()\n",
    "        print(f\"Tổng số người dùng lần đầu duy nhất: {len(first_time_user_ids)}\")\n",
    "\n",
    "        # Kiểm tra một vài hàng được đánh dấu là first_time_user\n",
    "        print(\"\\nVí dụ về các hàng được đánh dấu là first_time_user=True:\")\n",
    "        # Lọc các hàng first_time_user=True và hiển thị các cột trong required_cols + ['first_time_user']\n",
    "        print(mc_df[mc_df['first_time_user']][required_cols + ['first_time_user']].head())\n",
    "    else:\n",
    "        print(\"Không thể tạo cột 'first_time_user' do thiếu cột cần thiết hoặc cột chưa được xử lý.\")\n",
    "else:\n",
    "    print(\"DataFrame 'mc_df' chưa được tải.\")\n"
   ]
  },
  {
   "cell_type": "markdown",
   "metadata": {
    "_uuid": "ab2f779e5a84f99d02fd837d0f436cb81981c2f3",
    "id": "e-GYRLhOI0Ak"
   },
   "source": [
    "* **hips**-\n",
    "  Cột `hips` có rất nhiều giá trị bị thiếu ~ 32.28%! Chúng ta biết dữ liệu này có thể bị thiếu vì Modcloth rất có thể chưa bao giờ nhận được dữ liệu này từ người dùng. Chúng ta không thể loại bỏ một phần dữ liệu đáng kể như vậy, vì vậy chúng ta cần một cách khác để xử lý đặc trưng này. Chúng ta sẽ phân loại dữ liệu (binning) - trên cơ sở các tứ phân vị. (Lưu ý: Mã gốc sử dụng các ngưỡng tùy chỉnh, không phải tứ phân vị).\n",
    "* **length**- Chỉ có 35 hàng bị thiếu trong `length`, chúng ta sẽ xem xét chúng. Chúng ta thấy rằng rất có thể khách hàng đã không để lại phản hồi hoặc dữ liệu đã bị hỏng trong các hàng này. Tuy nhiên, chúng ta có thể suy luận (impute) các giá trị này bằng cách sử dụng các trường liên quan đến đánh giá (nếu chúng được điền!). Hoặc chúng ta cũng có thể đơn giản chọn loại bỏ các hàng này. Vì mục đích của phân tích này, chúng ta sẽ loại bỏ các hàng này.\n",
    "* **quality**- Chỉ có 68 hàng bị thiếu trong `quality`, chúng ta đã xem xét chúng. Tương tự như `length`, khách hàng đã không để lại phản hồi hoặc dữ liệu đã bị hỏng trong các hàng này. Chúng ta sẽ loại bỏ các hàng này và chuyển đổi kiểu dữ liệu thành một biến thứ tự (category có thứ tự)."
   ]
  },
  {
   "cell_type": "code",
   "execution_count": 43,
   "metadata": {
    "ExecuteTime": {
     "end_time": "2025-05-23T15:59:25.080905Z",
     "start_time": "2025-05-23T15:59:24.974905Z"
    },
    "_kg_hide-input": true,
    "_uuid": "736a8fd83468caadb92fcfd9d759642e9397f2ae",
    "id": "9jxsSzssI0Ak",
    "trusted": true
   },
   "outputs": [
    {
     "name": "stdout",
     "output_type": "stream",
     "text": [
      "\n",
      "Số giá trị null trong 'hips' trước khi xử lý: 26726\n",
      "Đã xử lý 'hips' (binning).\n",
      "Phân phối 'hips' sau khi binning:\n",
      "hips\n",
      "Unknown    26726\n",
      "S          15991\n",
      "L          14075\n",
      "XL         13855\n",
      "M          11386\n",
      "XS           757\n",
      "Name: count, dtype: int64\n",
      "\n",
      "Đã xử lý 'length': Loại bỏ 35 hàng bị thiếu.\n",
      "Số hàng còn lại: 82755\n",
      "\n",
      "Đã xử lý 'quality': Loại bỏ 58 hàng bị thiếu.\n",
      "Số hàng còn lại: 82697\n",
      "Đã chuyển 'quality' thành kiểu category có thứ tự.\n",
      "Phân phối 'quality':\n",
      "quality\n",
      "5.0    29598\n",
      "4.0    27107\n",
      "3.0    19521\n",
      "2.0     5129\n",
      "1.0     1342\n",
      "Name: count, dtype: int64\n"
     ]
    }
   ],
   "source": [
    "from pandas.api.types import CategoricalDtype\n",
    "\n",
    "# Bài tập 21: Xử lý các cột hips, length, quality\n",
    "if 'mc_df' in locals():\n",
    "    # Xử lý cột hips ==> Chuyển đổi thành các khoảng (bins)\n",
    "    if 'hips' in mc_df.columns:\n",
    "        print(f\"\\nSố giá trị null trong 'hips' trước khi xử lý: {mc_df.hips.isnull().sum()}\")\n",
    "        # Điền giá trị NaN trong cột 'hips' bằng -1.0\n",
    "        mc_df['hips'] = mc_df['hips'].fillna(-1.0)\n",
    "        bins = [-5, 0, 31, 37, 40, 44, 75]\n",
    "        labels = ['Unknown', 'XS', 'S', 'M', 'L', 'XL']\n",
    "        # Sử dụng pd.cut để chia cột 'hips' thành các bin dựa trên bins và labels đã cho, right=False\n",
    "        mc_df['hips'] = pd.cut(mc_df['hips'], bins=bins, labels=labels, right=False)\n",
    "        print(\"Đã xử lý 'hips' (binning).\")\n",
    "        print(\"Phân phối 'hips' sau khi binning:\")\n",
    "        print(mc_df['hips'].value_counts())\n",
    "\n",
    "    # Xử lý cột length ==> loại bỏ các hàng bị thiếu\n",
    "    if 'length' in mc_df.columns:\n",
    "        initial_rows = len(mc_df)\n",
    "        # Lấy index của các hàng có 'length' bị thiếu\n",
    "        missing_length_rows = mc_df[mc_df['length'].isnull()].index\n",
    "        # Sử dụng .drop() để loại bỏ các hàng này (axis=0), inplace=True\n",
    "        mc_df.drop(missing_length_rows, axis=0, inplace=True)\n",
    "        print(f\"\\nĐã xử lý 'length': Loại bỏ {len(missing_length_rows)} hàng bị thiếu.\")\n",
    "        print(f\"Số hàng còn lại: {len(mc_df)}\")\n",
    "\n",
    "    # Xử lý quality ==> loại bỏ các hàng bị thiếu và chuyển thành category có thứ tự\n",
    "    if 'quality' in mc_df.columns:\n",
    "        initial_rows = len(mc_df)\n",
    "        # Lấy index của các hàng có 'quality' bị thiếu\n",
    "        missing_quality_rows = mc_df[mc_df['quality'].isnull()].index\n",
    "        # Sử dụng .drop() để loại bỏ các hàng này (axis=0), inplace=True\n",
    "        mc_df.drop(missing_quality_rows, axis=0, inplace=True)\n",
    "        print(f\"\\nĐã xử lý 'quality': Loại bỏ {len(missing_quality_rows)} hàng bị thiếu.\")\n",
    "        print(f\"Số hàng còn lại: {len(mc_df)}\")\n",
    "\n",
    "        # Xác định thứ tự của các giá trị quality duy nhất (sử dụng sorted và .unique())\n",
    "        quality_order = sorted(mc_df['quality'].unique())\n",
    "        # Tạo kiểu CategoricalDtype với categories=quality_order và ordered=True\n",
    "        quality_cat_type = CategoricalDtype(categories=quality_order, ordered=True)\n",
    "        # Áp dụng kiểu dữ liệu này cho cột 'quality' sử dụng .astype()\n",
    "        mc_df['quality'] = mc_df['quality'].astype(quality_cat_type)\n",
    "        print(\"Đã chuyển 'quality' thành kiểu category có thứ tự.\")\n",
    "        print(\"Phân phối 'quality':\")\n",
    "        print(mc_df['quality'].value_counts())\n",
    "\n",
    "else:\n",
    "    print(\"DataFrame 'mc_df' chưa được tải.\")\n"
   ]
  },
  {
   "cell_type": "markdown",
   "metadata": {
    "_uuid": "465f1a40eefa83a79f1db021b75e8fb574791f25",
    "id": "LMIEEzQuI0Ak"
   },
   "source": [
    "* **review_summary/ review_text**- Các giá trị NA tồn tại vì các đánh giá này đơn giản là không được khách hàng cung cấp. Chúng ta chỉ cần điền chúng là 'Unknown'.\n",
    "* **shoe_size** - Khoảng 66.3% dữ liệu `shoe_size` bị thiếu. Chúng ta sẽ thay đổi `shoe_size` thành kiểu dữ liệu *category* và điền các giá trị NA là 'Unknown'.\n",
    "* **shoe_width** - Khoảng 77.5% dữ liệu `shoe_width` bị thiếu. Chúng ta sẽ điền các giá trị NA là 'Unknown' và chuyển thành kiểu category có thứ tự.\n",
    "* **waist**- Cột `waist` có số lượng giá trị bị thiếu cao nhất - 96.5%! Chúng ta sẽ loại bỏ cột này.\n",
    "* **bust**- 85.6% giá trị bị thiếu và tương quan cao với `bra_size`. Loại bỏ. (Đã loại bỏ ở bước trước)\n",
    "* **user_name**- `user_name` không cần thiết khi đã có `user_id`. Loại bỏ.\n",
    "\n",
    "Để chuyển đổi `shoe_width` thành kiểu category có thứ tự, chúng ta phải import `CategoricalDtype` và cung cấp thứ tự của các category."
   ]
  },
  {
   "cell_type": "code",
   "execution_count": 44,
   "metadata": {
    "ExecuteTime": {
     "end_time": "2025-05-23T16:00:02.208860Z",
     "start_time": "2025-05-23T16:00:01.965707Z"
    },
    "_kg_hide-input": true,
    "_kg_hide-output": false,
    "_uuid": "a1c93638fff62c5f8a1855c65aa982b788b32c6a",
    "id": "tQB6LAXzI0Ak",
    "trusted": true
   },
   "outputs": [
    {
     "name": "stdout",
     "output_type": "stream",
     "text": [
      "Đã xử lý 'review_summary'.\n",
      "Đã xử lý 'review_text'.\n",
      "\n",
      "Đã xử lý 'shoe_size'.\n",
      "Phân phối 'shoe_size' (Top 10):\n",
      "shoe_size\n",
      "Unknown    54821\n",
      "8.5         3972\n",
      "8.0         3822\n",
      "7.5         3701\n",
      "9.0         3598\n",
      "7.0         3192\n",
      "10.0        2418\n",
      "6.5         1826\n",
      "9.5         1802\n",
      "6.0         1336\n",
      "Name: count, dtype: int64\n",
      "\n",
      "Số giá trị null trong 'shoe_width' trước khi xử lý: 64116\n",
      "Thứ tự giả định cho 'shoe_width': ['Unknown', 'narrow', 'average', 'wide']\n",
      "Đã xử lý 'shoe_width' (thành category có thứ tự).\n",
      "Phân phối 'shoe_width':\n",
      "shoe_width\n",
      "Unknown    64116\n",
      "average    13079\n",
      "wide        3954\n",
      "narrow      1548\n",
      "Name: count, dtype: int64\n",
      "\n",
      "Đã loại bỏ cột 'waist'.\n",
      "Đã loại bỏ cột 'user_name'.\n"
     ]
    }
   ],
   "source": [
    "if 'mc_df' in locals():\n",
    "    # Xử lý review_summary/review_text\n",
    "    if 'review_summary' in mc_df.columns:\n",
    "        # Điền giá trị NaN trong 'review_summary' bằng 'Unknown'\n",
    "        mc_df['review_summary'] = mc_df['review_summary'].fillna('Unknown')\n",
    "        print(\"Đã xử lý 'review_summary'.\")\n",
    "    if 'review_text' in mc_df.columns:\n",
    "        # Điền giá trị NaN trong 'review_text' bằng 'Unknown'\n",
    "        mc_df['review_text'] = mc_df['review_text'].fillna('Unknown')\n",
    "        print(\"Đã xử lý 'review_text'.\")\n",
    "\n",
    "    # Xử lý shoe_size\n",
    "    if 'shoe_size' in mc_df.columns:\n",
    "        # Điền giá trị NaN trong 'shoe_size' bằng 'Unknown'\n",
    "        mc_df['shoe_size'] = mc_df['shoe_size'].fillna('Unknown')\n",
    "        # Chuyển đổi kiểu dữ liệu của 'shoe_size' thành 'category'\n",
    "        mc_df['shoe_size'] = mc_df['shoe_size'].astype('category')\n",
    "        print(\"\\nĐã xử lý 'shoe_size'.\")\n",
    "        print(\"Phân phối 'shoe_size' (Top 10):\")\n",
    "        print(mc_df['shoe_size'].value_counts().head(10))\n",
    "\n",
    "    # Xử lý shoe_width\n",
    "    if 'shoe_width' in mc_df.columns:\n",
    "        print(f\"\\nSố giá trị null trong 'shoe_width' trước khi xử lý: {mc_df.shoe_width.isnull().sum()}\")\n",
    "        # Điền giá trị NaN trong 'shoe_width' bằng 'Unknown'\n",
    "        mc_df['shoe_width'] = mc_df['shoe_width'].fillna('Unknown')\n",
    "\n",
    "        # Xác định thứ tự (ví dụ)\n",
    "        unique_widths = [w for w in mc_df['shoe_width'].unique() if w != 'Unknown']\n",
    "        width_order = ['Unknown']\n",
    "        if 'narrow' in unique_widths: width_order.append('narrow')\n",
    "        if 'average' in unique_widths: width_order.append('average')\n",
    "        if 'wide' in unique_widths: width_order.append('wide')\n",
    "        remaining_widths = [w for w in unique_widths if w not in width_order]\n",
    "        width_order.extend(sorted(remaining_widths))\n",
    "\n",
    "        print(\"Thứ tự giả định cho 'shoe_width':\", width_order)\n",
    "        try:\n",
    "            # Tạo CategoricalDtype với categories=width_order, ordered=True\n",
    "            shoe_width_cat_type = CategoricalDtype(categories=width_order, ordered=True)\n",
    "            # Áp dụng kiểu dữ liệu này cho cột 'shoe_width'\n",
    "            mc_df['shoe_width'] = mc_df['shoe_width'].astype(shoe_width_cat_type)\n",
    "            print(\"Đã xử lý 'shoe_width' (thành category có thứ tự).\")\n",
    "        except ValueError as e:\n",
    "            print(f\"Lỗi khi chuyển 'shoe_width' thành category có thứ tự: {e}\")\n",
    "            print(\"Chuyển 'shoe_width' thành category thông thường.\")\n",
    "            mc_df['shoe_width'] = mc_df['shoe_width'].astype('category')\n",
    "\n",
    "        print(\"Phân phối 'shoe_width':\")\n",
    "        print(mc_df['shoe_width'].value_counts())\n",
    "\n",
    "    # Xử lý waist (loại bỏ)\n",
    "    if 'waist' in mc_df.columns:\n",
    "        # Loại bỏ cột 'waist' (axis=1, inplace=True)\n",
    "        mc_df.drop('waist', axis=1, inplace=True)\n",
    "        print(\"\\nĐã loại bỏ cột 'waist'.\")\n",
    "\n",
    "    # Xử lý user_name (loại bỏ)\n",
    "    if 'user_name' in mc_df.columns:\n",
    "        # Loại bỏ cột 'user_name' (axis=1, inplace=True)\n",
    "        mc_df.drop('user_name', axis=1, inplace=True)\n",
    "        print(\"Đã loại bỏ cột 'user_name'.\")\n",
    "\n",
    "else:\n",
    "    print(\"DataFrame 'mc_df' chưa được tải.\")\n"
   ]
  },
  {
   "cell_type": "code",
   "execution_count": 45,
   "metadata": {
    "ExecuteTime": {
     "end_time": "2025-05-23T16:00:20.538145Z",
     "start_time": "2025-05-23T16:00:20.455796Z"
    },
    "_uuid": "e80cf9bef4d5c67bfd3d5344056cdbea2c982202",
    "id": "YBdWPlDQI0Ak",
    "trusted": true
   },
   "outputs": [
    {
     "name": "stdout",
     "output_type": "stream",
     "text": [
      "\n",
      "Thông tin DataFrame sau khi làm sạch và tiền xử lý:\n",
      "<class 'pandas.core.frame.DataFrame'>\n",
      "Index: 82697 entries, 0 to 82789\n",
      "Data columns (total 16 columns):\n",
      " #   Column           Non-Null Count  Dtype   \n",
      "---  ------           --------------  -----   \n",
      " 0   item_id          82697 non-null  int64   \n",
      " 1   size             82697 non-null  int64   \n",
      " 2   quality          82697 non-null  category\n",
      " 3   cup_size         82697 non-null  category\n",
      " 4   hips             82697 non-null  category\n",
      " 5   bra_size         82697 non-null  category\n",
      " 6   category         82697 non-null  category\n",
      " 7   height           0 non-null      float64 \n",
      " 8   length           82697 non-null  object  \n",
      " 9   fit              82697 non-null  category\n",
      " 10  user_id          82697 non-null  int64   \n",
      " 11  shoe_size        82697 non-null  category\n",
      " 12  shoe_width       82697 non-null  category\n",
      " 13  review_summary   82697 non-null  object  \n",
      " 14  review_text      82697 non-null  object  \n",
      " 15  first_time_user  82697 non-null  bool    \n",
      "dtypes: bool(1), category(8), float64(1), int64(3), object(3)\n",
      "memory usage: 5.8+ MB\n",
      "\n",
      "Kiểm tra lại dữ liệu bị thiếu:\n",
      "item_id                0\n",
      "size                   0\n",
      "quality                0\n",
      "cup_size               0\n",
      "hips                   0\n",
      "bra_size               0\n",
      "category               0\n",
      "height             82697\n",
      "length                 0\n",
      "fit                    0\n",
      "user_id                0\n",
      "shoe_size              0\n",
      "shoe_width             0\n",
      "review_summary         0\n",
      "review_text            0\n",
      "first_time_user        0\n",
      "dtype: int64\n"
     ]
    }
   ],
   "source": [
    "if 'mc_df' in locals():\n",
    "    print(\"\\nThông tin DataFrame sau khi làm sạch và tiền xử lý:\")\n",
    "    # Hiển thị thông tin DataFrame bằng .info()\n",
    "    mc_df.info()\n",
    "\n",
    "    # Kiểm tra lại các giá trị bị thiếu\n",
    "    print(\"\\nKiểm tra lại dữ liệu bị thiếu:\")\n",
    "    # Tính tổng số giá trị null cho mỗi cột\n",
    "    print(mc_df.isnull().sum())\n",
    "else:\n",
    "    print(\"DataFrame 'mc_df' chưa được tải.\")\n"
   ]
  },
  {
   "cell_type": "markdown",
   "metadata": {
    "_uuid": "17cd1c58dfe8132ab28a3a23262d0771f14f292e",
    "id": "OYrvKM67I0Ak"
   },
   "source": [
    "We can see that now there are no more missing values! We can move onto visualizing and gaining more insight about the data."
   ]
  },
  {
   "cell_type": "markdown",
   "metadata": {
    "id": "QZxEribSLYJ9"
   },
   "source": [
    "<a id=\"12\"></a>\n",
    "# EDA via visualizations\n",
    "\n",
    "<a id=\"13\"></a>\n",
    "<a id='dist_plots'></a>\n",
    "## 1. Distribution of different features over Modcloth dataset"
   ]
  },
  {
   "cell_type": "markdown",
   "metadata": {
    "id": "UDgPDzVfLcA2"
   },
   "source": []
  },
  {
   "cell_type": "code",
   "execution_count": null,
   "metadata": {
    "id": "63VKrOTxLju2"
   },
   "outputs": [],
   "source": [
    "\n",
    "# Vẽ biểu đồ density  của các cột trong data Modcloth\n",
    "def plot_dist(col, ax):\n",
    "    ...\n",
    "\n",
    "cols = ['bra_size','category', 'cup_size', 'fit', 'height', 'hips', 'length', 'quality']\n",
    "k = 0\n",
    "for i in range(2):\n",
    "    for j in range(4):\n",
    "        plot_dist(cols[k], ax[i][j])\n",
    "        k += 1\n",
    "__ = plt.suptitle(\"Final Distributions of different features\", fontsize= 23)"
   ]
  },
  {
   "cell_type": "markdown",
   "metadata": {
    "id": "OjxI3xsaL62R"
   },
   "source": [
    "<a id=\"14\"></a>\n",
    "## 2. Categories vs. Fit/Length/Quality\n",
    "Here, we will visualize how the items of different categories fared in terms of - fit, length, and quality. This will tell Modcloth which categories need more attention!\n",
    "\n",
    "I have plotted 2 distributions in categories here:\n",
    "\n",
    "**1. Unnormalized**- viewing the frequency counts directly- for comparison across categories. We also include the best fit, length, or quality measure in this plot.\n",
    "\n",
    "**2. Normalized** -  viewing the distribution for the category after normalizing the counts, amongst the category itself- it will help us compare what are major reason for return amongst the category itself. We exclude the best sizing & quality measures, so as to focus on the pre-dominant reasons of return per category (if any)."
   ]
  },
  {
   "cell_type": "code",
   "execution_count": null,
   "metadata": {
    "id": "qVU2aokXL9iH"
   },
   "outputs": [],
   "source": [
    "\n",
    "def plot_barh(df,col, cmap = None, stacked=False, norm = None):\n",
    "    df.plot(kind='barh', colormap=cmap, stacked=stacked)\n",
    "    fig = plt.gcf()\n",
    "    fig.set_size_inches(24,12)\n",
    "    plt.title(\"Category vs {}-feedback -  Modcloth {}\".format(col, '(Normalized)' if norm else ''), fontsize= 20)\n",
    "    plt.ylabel('Category', fontsize = 18)\n",
    "    plot = plt.xlabel('Frequency', fontsize=18)\n",
    "\n",
    "def norm_counts(t):\n",
    "    norms = np.linalg.norm(t.fillna(0), axis=1)\n",
    "    t_norm = t[0:0]\n",
    "    for row, euc in zip(t.iterrows(), norms):\n",
    "        t_norm.loc[row[0]] = list(map(lambda x: x/euc, list(row[1])))\n",
    "    return t_norm"
   ]
  },
  {
   "cell_type": "code",
   "execution_count": null,
   "metadata": {
    "id": "MIRlptP4MH-m"
   },
   "outputs": [],
   "source": [
    "mc_df.category.value_counts()"
   ]
  },
  {
   "cell_type": "markdown",
   "metadata": {
    "_uuid": "7cb5eb25d1c77eb0a9291bbf86d7dd2348ea2472",
    "id": "NM_6SwnTI0An"
   },
   "source": [
    "<a id='references'></a>\n",
    "# References:\n",
    "    [1] Rishabh Misra, Mengting Wan, Julian McAuley Decomposing Fit Semantics for Product Size Recommendation in Metric Spaces. RecSys, 2018.\n",
    "    \n",
    "<a id='assumptions'></a>\n",
    "# Assumptions:\n",
    "The data source has been assumed as following on the Modcloth dataset:\n",
    "* item_id- from item.\n",
    "* waist- from user input.\n",
    "* size - from item.\n",
    "* quality- from user input.\n",
    "* cup size- from user input.\n",
    "* hips- from user input.\n",
    "* bra size- from user input.\n",
    "* category- from item.\n",
    "* bust- from user input.\n",
    "* height- from user input\n",
    "* user_name- from user input\n",
    "* length - from user input\n",
    "* fit- from user input\n",
    "* user_id- from user.\n",
    "\n",
    "\n",
    "*sonnv*"
   ]
  },
  {
   "cell_type": "code",
   "execution_count": null,
   "metadata": {
    "id": "wLfM7nKqJMjq"
   },
   "outputs": [],
   "source": []
  }
 ],
 "metadata": {
  "colab": {
   "provenance": []
  },
  "kernelspec": {
   "display_name": "Python 3",
   "language": "python",
   "name": "python3"
  },
  "language_info": {
   "codemirror_mode": {
    "name": "ipython",
    "version": 3
   },
   "file_extension": ".py",
   "mimetype": "text/x-python",
   "name": "python",
   "nbconvert_exporter": "python",
   "pygments_lexer": "ipython3",
   "version": "3.6.6"
  }
 },
 "nbformat": 4,
 "nbformat_minor": 0
}
